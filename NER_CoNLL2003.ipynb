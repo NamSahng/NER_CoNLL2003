{
 "cells": [
  {
   "cell_type": "markdown",
   "metadata": {},
   "source": [
    "# Result\n",
    "\n",
    "\n",
    "<img  src=\"./img/results.PNG\" width=\"50%\">"
   ]
  },
  {
   "cell_type": "code",
   "execution_count": 0,
   "metadata": {
    "colab": {},
    "colab_type": "code",
    "id": "IS7TwkSAEmrg"
   },
   "outputs": [],
   "source": [
    "!pip install sklearn_crfsuite\n",
    "!sudo pip install git+https://www.github.com/keras-team/keras-contrib.git\n",
    "!pip install seqeval\n",
    "\n",
    "!pip uninstall keras\n",
    "!pip install keras==2.2.4"
   ]
  },
  {
   "cell_type": "code",
   "execution_count": 0,
   "metadata": {
    "colab": {},
    "colab_type": "code",
    "id": "RENQ5CzGoZLj"
   },
   "outputs": [],
   "source": [
    "!python -c 'import keras; print(keras.__version__)'\n",
    "## needs to be 2.2.4"
   ]
  },
  {
   "cell_type": "code",
   "execution_count": 0,
   "metadata": {
    "colab": {
     "base_uri": "https://localhost:8080/",
     "height": 145
    },
    "colab_type": "code",
    "id": "4ykmPoZ8q8cm",
    "outputId": "89bca71e-f120-4289-b139-9907e31ed50b"
   },
   "outputs": [
    {
     "name": "stdout",
     "output_type": "stream",
     "text": [
      "Go to this URL in a browser: https://accounts.google.com/o/oauth2/auth?client_id=947318989803-6bn6qk8qdgf4n4g3pfee6491hc0brc4i.apps.googleusercontent.com&redirect_uri=urn%3Aietf%3Awg%3Aoauth%3A2.0%3Aoob&scope=email%20https%3A%2F%2Fwww.googleapis.com%2Fauth%2Fdocs.test%20https%3A%2F%2Fwww.googleapis.com%2Fauth%2Fdrive%20https%3A%2F%2Fwww.googleapis.com%2Fauth%2Fdrive.photos.readonly%20https%3A%2F%2Fwww.googleapis.com%2Fauth%2Fpeopleapi.readonly&response_type=code\n",
      "\n",
      "Enter your authorization code:\n",
      "··········\n",
      "Mounted at /gdrive\n",
      "/gdrive\n"
     ]
    }
   ],
   "source": [
    "from google.colab import drive\n",
    "drive.mount('/gdrive')\n",
    "%cd /gdrive"
   ]
  },
  {
   "cell_type": "code",
   "execution_count": 0,
   "metadata": {
    "colab": {
     "base_uri": "https://localhost:8080/",
     "height": 35
    },
    "colab_type": "code",
    "id": "5ht4rQCQPMKM",
    "outputId": "2771166f-38e8-4cb7-c364-9d4d9a0928b0"
   },
   "outputs": [
    {
     "name": "stderr",
     "output_type": "stream",
     "text": [
      "Using TensorFlow backend.\n"
     ]
    }
   ],
   "source": [
    "import os\n",
    "import numpy as np\n",
    "import pandas as pd\n",
    "import re\n",
    "import matplotlib.pyplot as plt\n",
    "from itertools import chain\n",
    "import gc\n",
    "from time import time\n",
    "\n",
    "import nltk\n",
    "import sklearn\n",
    "import scipy.stats\n",
    "from sklearn.metrics import make_scorer\n",
    "# from sklearn.cross_validation import cross_val_score\n",
    "# from sklearn.grid_search import RandomizedSearchCV\n",
    "from sklearn.model_selection import cross_val_score\n",
    "from sklearn.model_selection import RandomizedSearchCV\n",
    "\n",
    "import sklearn_crfsuite\n",
    "from sklearn_crfsuite import scorers\n",
    "from sklearn_crfsuite import metrics\n",
    "\n",
    "from keras.preprocessing.sequence import pad_sequences\n",
    "from keras.models import Model, Input\n",
    "from keras.layers import LSTM, Embedding, Dense, TimeDistributed, Dropout, Conv1D\n",
    "from keras.layers import Bidirectional, concatenate, SpatialDropout1D, GlobalMaxPooling1D\n",
    "from keras.utils import to_categorical\n",
    "from keras_contrib.layers import CRF\n",
    "from keras import backend as K\n",
    "import tensorflow as tf\n",
    "\n",
    "from seqeval.metrics import precision_score, recall_score, f1_score, classification_report, accuracy_score\n",
    "\n",
    "results = []\n"
   ]
  },
  {
   "cell_type": "code",
   "execution_count": 0,
   "metadata": {
    "colab": {
     "base_uri": "https://localhost:8080/",
     "height": 35
    },
    "colab_type": "code",
    "id": "dyJUmWaTvfMX",
    "outputId": "476b79e1-324b-47ba-b2c5-1dde313a9fd9"
   },
   "outputs": [
    {
     "name": "stdout",
     "output_type": "stream",
     "text": [
      "dir: cannot access 'data': No such file or directory\n"
     ]
    }
   ],
   "source": [
    "!dir data"
   ]
  },
  {
   "cell_type": "markdown",
   "metadata": {
    "colab_type": "text",
    "id": "78J7crHSAhab"
   },
   "source": [
    "# 1. Conditional Random Field\n"
   ]
  },
  {
   "cell_type": "code",
   "execution_count": 0,
   "metadata": {
    "colab": {},
    "colab_type": "code",
    "id": "iadRzwstEwws"
   },
   "outputs": [],
   "source": [
    "os.chdir('/gdrive/My Drive/estsoft')\n",
    "\n",
    "#train_CoNLL03_sample = open('./data/train.txt')\n",
    "train_CoNLL03_sample = open('./data/train_full.txt')\n",
    "train = [line for line in train_CoNLL03_sample]\n",
    "\n",
    "dev_CoNLL03_sample = open('./data/dev.txt')\n",
    "dev = [line for line in dev_CoNLL03_sample]\n",
    "\n",
    "def change_form(f):\n",
    "    form = []\n",
    "    temp = []\n",
    "    for line in f:\n",
    "        if len(line)==0 or line[0]==\"\\n\":\n",
    "            if len(temp) > 0:\n",
    "                form.append(temp)\n",
    "                temp = []\n",
    "            continue\n",
    "        feat = line.split(' ')\n",
    "        feat[-1] = re.sub(r'\\n', '', feat[-1])\n",
    "        temp.append((feat[0],feat[1],feat[3]))\n",
    "    return form\n",
    "\n",
    "new_train = change_form(train)\n",
    "new_dev = change_form(dev)\n"
   ]
  },
  {
   "cell_type": "code",
   "execution_count": 0,
   "metadata": {
    "colab": {
     "base_uri": "https://localhost:8080/",
     "height": 71
    },
    "colab_type": "code",
    "id": "UFWPRvguJ48s",
    "outputId": "19ac661a-bcf4-4cf7-d67b-26906392506b"
   },
   "outputs": [
    {
     "name": "stdout",
     "output_type": "stream",
     "text": [
      "14041\n",
      "14036\n",
      "60\n"
     ]
    }
   ],
   "source": [
    "print(len(new_train))\n",
    "new_train = [s for s in new_train if (len(s) <= 60)]\n",
    "print(len(new_train))\n",
    "print(max(len(sen) for sen in new_train)) "
   ]
  },
  {
   "cell_type": "code",
   "execution_count": 0,
   "metadata": {
    "colab": {},
    "colab_type": "code",
    "id": "Widf-X2I0mYk"
   },
   "outputs": [],
   "source": [
    "def word2features(sent, i):\n",
    "    word = sent[i][0]\n",
    "    postag = sent[i][1]\n",
    "    features = {\n",
    "        'bias': 1.0,\n",
    "        'word.lower()': word.lower(),\n",
    "        'word[-3:]': word[-3:],\n",
    "        'word[-2:]': word[-2:],\n",
    "        'word.isupper()': word.isupper(),\n",
    "        'word.istitle()': word.istitle(),\n",
    "        'word.isdigit()': word.isdigit(),\n",
    "        'postag': postag,\n",
    "        'postag[:2]': postag[:2],\n",
    "    }\n",
    "    if i > 0:\n",
    "        word1 = sent[i-1][0]\n",
    "        postag1 = sent[i-1][1]\n",
    "        features.update({\n",
    "            '-1:word.lower()': word1.lower(),\n",
    "            '-1:word.istitle()': word1.istitle(),\n",
    "            '-1:word.isupper()': word1.isupper(),\n",
    "            '-1:postag': postag1,\n",
    "            '-1:postag[:2]': postag1[:2],\n",
    "        })\n",
    "    else:\n",
    "        features['BOS'] = True\n",
    "        \n",
    "    if i < len(sent)-1:\n",
    "        word1 = sent[i+1][0]\n",
    "        postag1 = sent[i+1][1]\n",
    "        features.update({\n",
    "            '+1:word.lower()': word1.lower(),\n",
    "            '+1:word.istitle()': word1.istitle(),\n",
    "            '+1:word.isupper()': word1.isupper(),\n",
    "            '+1:postag': postag1,\n",
    "            '+1:postag[:2]': postag1[:2],\n",
    "        })\n",
    "    else:\n",
    "        features['EOS'] = True\n",
    "    return features\n",
    "\n",
    "def sent2features(sent):\n",
    "    return [word2features(sent, i) for i in range(len(sent))]\n",
    "\n",
    "def sent2labels(sent):\n",
    "    return [label for token, postag, label in sent]\n",
    "\n",
    "def sent2tokens(sent):\n",
    "    return [token for token, postag, label in sent]\n",
    "\n",
    "X_train = [sent2features(s) for s in new_train]\n",
    "y_train = [sent2labels(s) for s in new_train]\n",
    "\n",
    "X_test = [sent2features(s) for s in new_dev]\n",
    "y_test = [sent2labels(s) for s in new_dev]\n",
    "\n",
    "crf = sklearn_crfsuite.CRF(\n",
    "    algorithm='lbfgs',\n",
    "    c1=0.1,\n",
    "    c2=0.1,\n",
    "    max_iterations=100,\n",
    "    all_possible_transitions=True\n",
    ")"
   ]
  },
  {
   "cell_type": "code",
   "execution_count": 0,
   "metadata": {
    "colab": {
     "base_uri": "https://localhost:8080/",
     "height": 35
    },
    "colab_type": "code",
    "id": "lUfpNDyAuWyb",
    "outputId": "ed91987d-1ba3-4d21-ad08-910c2e019c80"
   },
   "outputs": [
    {
     "name": "stdout",
     "output_type": "stream",
     "text": [
      "train time: 35.016s\n"
     ]
    }
   ],
   "source": [
    "t0 = time()\n",
    "crf.fit(X_train, y_train)\n",
    "train_time = time() - t0\n",
    "print(\"train time: %0.3fs\" % train_time)"
   ]
  },
  {
   "cell_type": "code",
   "execution_count": 0,
   "metadata": {
    "colab": {},
    "colab_type": "code",
    "id": "t2GRG1e4uY2L"
   },
   "outputs": [],
   "source": [
    "labels = list(crf.classes_)\n",
    "labels.remove('O')"
   ]
  },
  {
   "cell_type": "code",
   "execution_count": 0,
   "metadata": {
    "colab": {
     "base_uri": "https://localhost:8080/",
     "height": 35
    },
    "colab_type": "code",
    "id": "5JYXQf9Mx0Ol",
    "outputId": "a029f269-374c-4697-d093-ff59f04a7c6b"
   },
   "outputs": [
    {
     "name": "stdout",
     "output_type": "stream",
     "text": [
      "test time:  0.064s\n"
     ]
    }
   ],
   "source": [
    "t0 = time()\n",
    "y_pred = crf.predict(X_test)\n",
    "test_time = time() - t0\n",
    "print(\"test time:  %0.3fs\" % test_time)"
   ]
  },
  {
   "cell_type": "code",
   "execution_count": 0,
   "metadata": {
    "colab": {
     "base_uri": "https://localhost:8080/",
     "height": 197
    },
    "colab_type": "code",
    "id": "8U6lHGWqBKe2",
    "outputId": "0ea1aa97-655e-4eee-bb7f-1915b1422379"
   },
   "outputs": [
    {
     "name": "stdout",
     "output_type": "stream",
     "text": [
      "           precision    recall  f1-score   support\n",
      "\n",
      "     MISC       0.82      0.87      0.84        67\n",
      "      PER       0.95      0.87      0.91       221\n",
      "      ORG       0.92      0.91      0.91       192\n",
      "      LOC       0.86      0.89      0.88       161\n",
      "\n",
      "micro avg       0.90      0.89      0.89       641\n",
      "macro avg       0.90      0.89      0.89       641\n",
      "\n"
     ]
    }
   ],
   "source": [
    "print(classification_report(y_test, y_pred))"
   ]
  },
  {
   "cell_type": "code",
   "execution_count": 0,
   "metadata": {
    "colab": {
     "base_uri": "https://localhost:8080/",
     "height": 53
    },
    "colab_type": "code",
    "id": "HlCLxhlSWN2D",
    "outputId": "16c0ce85-8e6d-4173-fc9a-f7abd8d70052"
   },
   "outputs": [
    {
     "name": "stdout",
     "output_type": "stream",
     "text": [
      "0.9078014184397163\n",
      "0.9624664879356568\n"
     ]
    }
   ],
   "source": [
    "y_test_per = [['PER' if 'PER' in w else 'O' for w in s] for s in y_test]\n",
    "y_test_per_acc = [True if 'PER' in s else False for s in y_test_per]\n",
    "\n",
    "y_pred_per = [['PER' if 'PER' in w else 'O' for w in s] for s in y_pred]\n",
    "y_pred_per_acc = [True if 'PER' in s else False for s in y_pred_per]\n",
    "\n",
    "f1 = f1_score(y_test_per, y_pred_per)\n",
    "acc = accuracy_score(y_test_per_acc, y_pred_per_acc)\n",
    "print(f1)\n",
    "print(acc)\n"
   ]
  },
  {
   "cell_type": "code",
   "execution_count": 0,
   "metadata": {
    "colab": {},
    "colab_type": "code",
    "id": "5TJYLztckP0H"
   },
   "outputs": [],
   "source": [
    "results.append(['CRF', f1, acc, train_time, test_time ])"
   ]
  },
  {
   "cell_type": "markdown",
   "metadata": {
    "colab_type": "text",
    "id": "OhO-viSH12Mu"
   },
   "source": [
    "# 2. Neural Networks\n"
   ]
  },
  {
   "cell_type": "markdown",
   "metadata": {
    "colab_type": "text",
    "id": "62iHdQ5a8YWP"
   },
   "source": [
    "## a. Embedding and bi-LSTMs"
   ]
  },
  {
   "cell_type": "code",
   "execution_count": 0,
   "metadata": {
    "colab": {},
    "colab_type": "code",
    "id": "jmK7_ZNldVN4"
   },
   "outputs": [],
   "source": [
    "os.chdir('/gdrive/My Drive/estsoft')\n",
    "#train_CoNLL03_sample = open('./data/train.txt')\n",
    "train_CoNLL03_sample = open('./data/train_full.txt')\n",
    "train = [line for line in train_CoNLL03_sample]\n",
    "\n",
    "dev_CoNLL03_sample = open('./data/dev.txt')\n",
    "dev = [line for line in dev_CoNLL03_sample]\n",
    "\n",
    "import re\n",
    "def change_form(f):\n",
    "    form = []\n",
    "    temp = []\n",
    "    for line in f:\n",
    "        if len(line)==0 or line[0]==\"\\n\":\n",
    "            if len(temp) > 0:\n",
    "                form.append(temp)\n",
    "                temp = []\n",
    "            continue\n",
    "        feat = line.split(' ')\n",
    "        feat[-1] = re.sub(r'\\n', '', feat[-1])\n",
    "        temp.append((feat[0],feat[1],feat[3]))\n",
    "    return form\n",
    "\n",
    "new_train = change_form(train)\n",
    "new_dev = change_form(dev)"
   ]
  },
  {
   "cell_type": "code",
   "execution_count": 0,
   "metadata": {
    "colab": {
     "base_uri": "https://localhost:8080/",
     "height": 89
    },
    "colab_type": "code",
    "id": "_c-zeE9QydN1",
    "outputId": "17889339-f1d2-4cab-d8e7-8db7534e627b"
   },
   "outputs": [
    {
     "name": "stdout",
     "output_type": "stream",
     "text": [
      "46\n",
      "113\n",
      "23623\n",
      "23625\n"
     ]
    }
   ],
   "source": [
    "max_len_dev = -1\n",
    "for sent in new_dev:\n",
    "    if len(sent) > max_len_dev:\n",
    "        max_len_dev = len(sent)\n",
    "print(max_len_dev)\n",
    "\n",
    "words = set()\n",
    "tags = set()\n",
    "max_len_sent = -1\n",
    "for sent in new_train:\n",
    "    for w in sent:\n",
    "        words.add(w[0])\n",
    "        tags.add(w[2])\n",
    "    if len(sent) > max_len_sent:\n",
    "        max_len_sent = len(sent)\n",
    "words = list(words)\n",
    "tags = list(tags)\n",
    "\n",
    "print(max_len_sent)\n",
    "print(len(words))\n",
    "\n",
    "words.append(\"ENDPAD\")\n",
    "words.append(\"UNK\")\n",
    "\n",
    "n_words = len(words)\n",
    "n_tags = len(tags)\n",
    "print(n_words)\n"
   ]
  },
  {
   "cell_type": "code",
   "execution_count": 0,
   "metadata": {
    "colab": {
     "base_uri": "https://localhost:8080/",
     "height": 71
    },
    "colab_type": "code",
    "id": "nghNRRbYJMsj",
    "outputId": "ab34215b-66ce-464d-c9b5-4200d2c99444"
   },
   "outputs": [
    {
     "name": "stdout",
     "output_type": "stream",
     "text": [
      "14041\n",
      "14036\n",
      "60\n"
     ]
    }
   ],
   "source": [
    "# 60으로 설정\n",
    "max_len = 60\n",
    "\n",
    "print(len(new_train))\n",
    "new_train = [s  for s in new_train if (len(s) <= 60)]\n",
    "print(len(new_train))\n",
    "print(max(len(sen) for sen in new_train)) "
   ]
  },
  {
   "cell_type": "code",
   "execution_count": 0,
   "metadata": {
    "colab": {},
    "colab_type": "code",
    "id": "EaUzbLhGkLt3"
   },
   "outputs": [],
   "source": [
    "word2idx = {w: i for i, w in enumerate(words)}\n",
    "tag2idx = {t: i for i, t in enumerate(tags)}"
   ]
  },
  {
   "cell_type": "code",
   "execution_count": 0,
   "metadata": {
    "colab": {},
    "colab_type": "code",
    "id": "HvoyMcVxk5Tz"
   },
   "outputs": [],
   "source": [
    "X_tr = [[word2idx[w[0]] for w in s] for s in new_train]\n",
    "\n",
    "X_te = []\n",
    "for s in new_dev:\n",
    "    temp = []\n",
    "    for w in s:\n",
    "        if w[0] in word2idx:\n",
    "            temp.append(word2idx[w[0]])\n",
    "        else:\n",
    "            temp.append(word2idx['UNK'])\n",
    "    X_te.append(temp)\n",
    "\n",
    "X_train = pad_sequences(maxlen=max_len, sequences=X_tr, padding=\"post\", value=n_words-1)\n",
    "X_test = pad_sequences(maxlen=max_len, sequences=X_te, padding=\"post\", value=n_words-1)\n",
    "\n",
    "y_tr = [[tag2idx[w[2]] for w in s] for s in new_train]\n",
    "y_te = [[tag2idx[w[2]] for w in s] for s in new_dev]\n",
    "\n",
    "y_train = pad_sequences(maxlen=max_len, sequences=y_tr, padding=\"post\", value=tag2idx[\"O\"])\n",
    "y_test = pad_sequences(maxlen=max_len, sequences=y_te, padding=\"post\", value=tag2idx[\"O\"])\n",
    "\n",
    "y_train = [to_categorical(i, num_classes=n_tags) for i in y_train]\n",
    "y_test = [to_categorical(i, num_classes=n_tags) for i in y_test]\n"
   ]
  },
  {
   "cell_type": "code",
   "execution_count": 0,
   "metadata": {
    "colab": {},
    "colab_type": "code",
    "id": "p4y-KUGZvx9w"
   },
   "outputs": [],
   "source": [
    "# del input, out\n",
    "# del model, history\n",
    "# gc.collect()\n",
    "# K.clear_session()\n",
    "# tf.reset_default_graph()"
   ]
  },
  {
   "cell_type": "code",
   "execution_count": 0,
   "metadata": {
    "colab": {
     "base_uri": "https://localhost:8080/",
     "height": 307
    },
    "colab_type": "code",
    "id": "omKbQW2Ff9Pn",
    "outputId": "e4b80e8e-9715-43d1-ccd0-4a7dd8442f92"
   },
   "outputs": [
    {
     "name": "stdout",
     "output_type": "stream",
     "text": [
      "WARNING:tensorflow:From /usr/local/lib/python3.6/dist-packages/keras/backend/tensorflow_backend.py:74: The name tf.get_default_graph is deprecated. Please use tf.compat.v1.get_default_graph instead.\n",
      "\n",
      "WARNING:tensorflow:From /usr/local/lib/python3.6/dist-packages/keras/backend/tensorflow_backend.py:517: The name tf.placeholder is deprecated. Please use tf.compat.v1.placeholder instead.\n",
      "\n",
      "WARNING:tensorflow:From /usr/local/lib/python3.6/dist-packages/keras/backend/tensorflow_backend.py:4138: The name tf.random_uniform is deprecated. Please use tf.random.uniform instead.\n",
      "\n",
      "WARNING:tensorflow:From /usr/local/lib/python3.6/dist-packages/keras/backend/tensorflow_backend.py:133: The name tf.placeholder_with_default is deprecated. Please use tf.compat.v1.placeholder_with_default instead.\n",
      "\n",
      "WARNING:tensorflow:From /usr/local/lib/python3.6/dist-packages/keras/backend/tensorflow_backend.py:3445: calling dropout (from tensorflow.python.ops.nn_ops) with keep_prob is deprecated and will be removed in a future version.\n",
      "Instructions for updating:\n",
      "Please use `rate` instead of `keep_prob`. Rate should be set to `rate = 1 - keep_prob`.\n",
      "WARNING:tensorflow:From /usr/local/lib/python3.6/dist-packages/keras/optimizers.py:790: The name tf.train.Optimizer is deprecated. Please use tf.compat.v1.train.Optimizer instead.\n",
      "\n",
      "WARNING:tensorflow:From /usr/local/lib/python3.6/dist-packages/keras/backend/tensorflow_backend.py:3295: The name tf.log is deprecated. Please use tf.math.log instead.\n",
      "\n"
     ]
    }
   ],
   "source": [
    "\n",
    "input = Input(shape=(max_len,))\n",
    "model = Embedding(input_dim=n_words, output_dim=50, input_length=max_len)(input)\n",
    "model = Dropout(0.1)(model)\n",
    "model = Bidirectional(LSTM(units=100, return_sequences=True, recurrent_dropout=0.1))(model)\n",
    "out = TimeDistributed(Dense(n_tags, activation=\"softmax\"))(model)  # softmax output layer\n",
    "\n",
    "model = Model(input, out)\n",
    "model.compile(optimizer=\"rmsprop\", loss=\"categorical_crossentropy\", metrics=[\"accuracy\"])\n"
   ]
  },
  {
   "cell_type": "code",
   "execution_count": 0,
   "metadata": {
    "colab": {
     "base_uri": "https://localhost:8080/",
     "height": 323
    },
    "colab_type": "code",
    "id": "iAq0S1BkzFoS",
    "outputId": "fa3c00c2-1b49-4d21-f985-80ff5209db92"
   },
   "outputs": [
    {
     "name": "stdout",
     "output_type": "stream",
     "text": [
      "_________________________________________________________________\n",
      "Layer (type)                 Output Shape              Param #   \n",
      "=================================================================\n",
      "input_1 (InputLayer)         (None, 60)                0         \n",
      "_________________________________________________________________\n",
      "embedding_1 (Embedding)      (None, 60, 50)            1181250   \n",
      "_________________________________________________________________\n",
      "dropout_1 (Dropout)          (None, 60, 50)            0         \n",
      "_________________________________________________________________\n",
      "bidirectional_1 (Bidirection (None, 60, 200)           120800    \n",
      "_________________________________________________________________\n",
      "time_distributed_1 (TimeDist (None, 60, 9)             1809      \n",
      "=================================================================\n",
      "Total params: 1,303,859\n",
      "Trainable params: 1,303,859\n",
      "Non-trainable params: 0\n",
      "_________________________________________________________________\n"
     ]
    }
   ],
   "source": [
    "model.summary()"
   ]
  },
  {
   "cell_type": "code",
   "execution_count": 0,
   "metadata": {
    "colab": {
     "base_uri": "https://localhost:8080/",
     "height": 307
    },
    "colab_type": "code",
    "id": "0gRcbU0Yk3Ry",
    "outputId": "f9c62cc5-3b1d-479a-f77f-a740b4cf19ca"
   },
   "outputs": [
    {
     "name": "stdout",
     "output_type": "stream",
     "text": [
      "WARNING:tensorflow:From /usr/local/lib/python3.6/dist-packages/tensorflow/python/ops/math_grad.py:1250: add_dispatch_support.<locals>.wrapper (from tensorflow.python.ops.array_ops) is deprecated and will be removed in a future version.\n",
      "Instructions for updating:\n",
      "Use tf.where in 2.0, which has the same broadcast rule as np.where\n",
      "Train on 12632 samples, validate on 1404 samples\n",
      "Epoch 1/5\n",
      "12632/12632 [==============================] - 119s 9ms/step - loss: 0.1542 - acc: 0.9616 - val_loss: 0.0937 - val_acc: 0.9712\n",
      "Epoch 2/5\n",
      "12632/12632 [==============================] - 117s 9ms/step - loss: 0.0627 - acc: 0.9805 - val_loss: 0.0737 - val_acc: 0.9773\n",
      "Epoch 3/5\n",
      "12632/12632 [==============================] - 117s 9ms/step - loss: 0.0358 - acc: 0.9898 - val_loss: 0.0540 - val_acc: 0.9848\n",
      "Epoch 4/5\n",
      "12632/12632 [==============================] - 117s 9ms/step - loss: 0.0220 - acc: 0.9942 - val_loss: 0.0490 - val_acc: 0.9854\n",
      "Epoch 5/5\n",
      "12632/12632 [==============================] - 118s 9ms/step - loss: 0.0157 - acc: 0.9960 - val_loss: 0.0461 - val_acc: 0.9863\n",
      "train time: 590.281s\n"
     ]
    }
   ],
   "source": [
    "t0 = time()\n",
    "history = model.fit(X_train, np.array(y_train), batch_size=32, epochs=5, validation_split=0.1, verbose=1)\n",
    "train_time = time() - t0\n",
    "print(\"train time: %0.3fs\" % train_time)"
   ]
  },
  {
   "cell_type": "code",
   "execution_count": 0,
   "metadata": {
    "colab": {
     "base_uri": "https://localhost:8080/",
     "height": 269
    },
    "colab_type": "code",
    "id": "RtVkXyyWtzzK",
    "outputId": "e55505a0-8834-4219-ebf1-5867bfac49b5"
   },
   "outputs": [
    {
     "data": {
      "image/png": "[encoded data removed]",
      "text/plain": [
       "<Figure size 288x288 with 1 Axes>"
      ]
     },
     "metadata": {
      "tags": []
     },
     "output_type": "display_data"
    }
   ],
   "source": [
    "hist = pd.DataFrame(history.history)\n",
    "\n",
    "plt.figure(figsize=(4,4))\n",
    "plt.plot(hist[\"acc\"])\n",
    "plt.plot(hist[\"val_acc\"])\n",
    "plt.show()"
   ]
  },
  {
   "cell_type": "code",
   "execution_count": 0,
   "metadata": {
    "colab": {
     "base_uri": "https://localhost:8080/",
     "height": 53
    },
    "colab_type": "code",
    "id": "EvOilmbLYZxe",
    "outputId": "d21a8c85-993f-4c7b-d7fb-9174795b7488"
   },
   "outputs": [
    {
     "name": "stdout",
     "output_type": "stream",
     "text": [
      "373/373 [==============================] - 2s 4ms/step\n",
      "test time:  1.512s\n"
     ]
    }
   ],
   "source": [
    "t0 = time()\n",
    "test_pred = model.predict(X_test, verbose=1)\n",
    "test_time = time() - t0\n",
    "print(\"test time:  %0.3fs\" % test_time)"
   ]
  },
  {
   "cell_type": "code",
   "execution_count": 0,
   "metadata": {
    "colab": {},
    "colab_type": "code",
    "id": "FsbD0GJ7tWzX"
   },
   "outputs": [],
   "source": [
    "idx2tag = {i: w for w, i in tag2idx.items()}\n",
    "\n",
    "def pred2label(pred):\n",
    "    out = []\n",
    "    for pred_i in pred:\n",
    "        out_i = []\n",
    "        for p in pred_i:\n",
    "            p_i = np.argmax(p)\n",
    "            out_i.append(idx2tag[p_i].replace(\"PAD\", \"O\"))\n",
    "        out.append(out_i)\n",
    "    return out\n",
    "    \n",
    "pred_labels = pred2label(test_pred)\n",
    "test_labels = pred2label(y_test)"
   ]
  },
  {
   "cell_type": "code",
   "execution_count": 0,
   "metadata": {
    "colab": {
     "base_uri": "https://localhost:8080/",
     "height": 215
    },
    "colab_type": "code",
    "id": "riQhxUSHZM9z",
    "outputId": "42e28f31-7209-4e44-f5aa-22f3f96088d9"
   },
   "outputs": [
    {
     "name": "stdout",
     "output_type": "stream",
     "text": [
      "F1-score: 76.3%\n",
      "           precision    recall  f1-score   support\n",
      "\n",
      "      LOC       0.83      0.76      0.79       161\n",
      "      PER       0.80      0.59      0.68       221\n",
      "      ORG       0.80      0.88      0.84       192\n",
      "     MISC       0.68      0.75      0.71        67\n",
      "\n",
      "micro avg       0.79      0.73      0.76       641\n",
      "macro avg       0.80      0.73      0.76       641\n",
      "\n"
     ]
    }
   ],
   "source": [
    "print(\"F1-score: {:.1%}\".format(f1_score(test_labels, pred_labels)))\n",
    "print(classification_report(test_labels, pred_labels))"
   ]
  },
  {
   "cell_type": "code",
   "execution_count": 0,
   "metadata": {
    "colab": {},
    "colab_type": "code",
    "id": "H7QHuVdzm1E7"
   },
   "outputs": [],
   "source": [
    "y_test_per = [['PER' if 'PER' in w else 'O' for w in s] for s in test_labels]\n",
    "y_test_per_acc = [True if 'PER' in s else False for s in y_test_per]\n",
    "\n",
    "y_pred_per = [['PER' if 'PER' in w else 'O' for w in s] for s in pred_labels]\n",
    "y_pred_per_acc = [True if 'PER' in s else False for s in y_pred_per]\n"
   ]
  },
  {
   "cell_type": "code",
   "execution_count": 0,
   "metadata": {
    "colab": {
     "base_uri": "https://localhost:8080/",
     "height": 53
    },
    "colab_type": "code",
    "id": "zSxbFWzHm0w9",
    "outputId": "25ec5420-12b6-47ab-bb75-b9488c76acff"
   },
   "outputs": [
    {
     "name": "stdout",
     "output_type": "stream",
     "text": [
      "0.6822916666666667\n",
      "0.9115281501340483\n"
     ]
    }
   ],
   "source": [
    "f1 = f1_score(y_test_per, y_pred_per)\n",
    "acc = accuracy_score(y_test_per_acc, y_pred_per_acc)\n",
    "print(f1)\n",
    "print(acc)"
   ]
  },
  {
   "cell_type": "code",
   "execution_count": 0,
   "metadata": {
    "colab": {},
    "colab_type": "code",
    "id": "MahuM7T8n9el"
   },
   "outputs": [],
   "source": [
    "results.append(['Simple_BiLSTMs', f1, acc, train_time, test_time ])"
   ]
  },
  {
   "cell_type": "code",
   "execution_count": 0,
   "metadata": {
    "colab": {
     "base_uri": "https://localhost:8080/",
     "height": 197
    },
    "colab_type": "code",
    "id": "C5hl7TtLNcVk",
    "outputId": "533aef27-4d7e-43fa-abbf-edf480adb906"
   },
   "outputs": [
    {
     "data": {
      "text/plain": [
       "[['CRF',\n",
       "  0.9078014184397163,\n",
       "  0.9624664879356568,\n",
       "  35.01606607437134,\n",
       "  0.06449460983276367],\n",
       " ['Simple_BiLSTMs',\n",
       "  0.6822916666666667,\n",
       "  0.9115281501340483,\n",
       "  590.2808156013489,\n",
       "  1.5124719142913818]]"
      ]
     },
     "execution_count": 28,
     "metadata": {
      "tags": []
     },
     "output_type": "execute_result"
    }
   ],
   "source": [
    "results"
   ]
  },
  {
   "cell_type": "markdown",
   "metadata": {
    "colab_type": "text",
    "id": "Pyup1nnCYXFi"
   },
   "source": [
    "## b. LSTM-CRF\n"
   ]
  },
  {
   "cell_type": "code",
   "execution_count": 0,
   "metadata": {
    "colab": {},
    "colab_type": "code",
    "id": "p-JMLI6IYV4E"
   },
   "outputs": [],
   "source": [
    "del input, out\n",
    "del model, history\n",
    "gc.collect()\n",
    "K.clear_session()\n",
    "tf.reset_default_graph()\n"
   ]
  },
  {
   "cell_type": "code",
   "execution_count": 0,
   "metadata": {
    "colab": {},
    "colab_type": "code",
    "id": "HU5gItDGYy8Z"
   },
   "outputs": [],
   "source": [
    "input = Input(shape=(max_len,))\n",
    "model = Embedding(input_dim=n_words + 1, output_dim=20,\n",
    "                  input_length=max_len, mask_zero=True)(input)  # 20-dim embedding\n",
    "model = Bidirectional(LSTM(units=50, return_sequences=True,\n",
    "                           recurrent_dropout=0.1))(model)  # variational biLSTM\n",
    "model = TimeDistributed(Dense(50, activation=\"relu\"))(model)  # a dense layer as suggested by neuralNer\n",
    "crf = CRF(n_tags)  # CRF layer\n",
    "out = crf(model)  # output"
   ]
  },
  {
   "cell_type": "code",
   "execution_count": 0,
   "metadata": {
    "colab": {
     "base_uri": "https://localhost:8080/",
     "height": 109
    },
    "colab_type": "code",
    "id": "tLd1slvEiFsA",
    "outputId": "03414e0a-48a5-4ea1-bd60-8f594c5b14dd"
   },
   "outputs": [
    {
     "name": "stderr",
     "output_type": "stream",
     "text": [
      "/usr/local/lib/python3.6/dist-packages/keras_contrib/layers/crf.py:346: UserWarning: CRF.loss_function is deprecated and it might be removed in the future. Please use losses.crf_loss instead.\n",
      "  warnings.warn('CRF.loss_function is deprecated '\n",
      "/usr/local/lib/python3.6/dist-packages/keras_contrib/layers/crf.py:353: UserWarning: CRF.accuracy is deprecated and it might be removed in the future. Please use metrics.crf_accuracy\n",
      "  warnings.warn('CRF.accuracy is deprecated and it '\n"
     ]
    }
   ],
   "source": [
    "model = Model(input, out)\n",
    "model.compile(optimizer=\"rmsprop\", loss=crf.loss_function, metrics=[crf.accuracy])"
   ]
  },
  {
   "cell_type": "code",
   "execution_count": 0,
   "metadata": {
    "colab": {
     "base_uri": "https://localhost:8080/",
     "height": 323
    },
    "colab_type": "code",
    "id": "8otX0Ssrh5ab",
    "outputId": "23e5f4e8-9141-4be5-9158-408251003a80"
   },
   "outputs": [
    {
     "name": "stdout",
     "output_type": "stream",
     "text": [
      "_________________________________________________________________\n",
      "Layer (type)                 Output Shape              Param #   \n",
      "=================================================================\n",
      "input_1 (InputLayer)         (None, 60)                0         \n",
      "_________________________________________________________________\n",
      "embedding_1 (Embedding)      (None, 60, 20)            472520    \n",
      "_________________________________________________________________\n",
      "bidirectional_1 (Bidirection (None, 60, 100)           28400     \n",
      "_________________________________________________________________\n",
      "time_distributed_1 (TimeDist (None, 60, 50)            5050      \n",
      "_________________________________________________________________\n",
      "crf_1 (CRF)                  (None, 60, 9)             558       \n",
      "=================================================================\n",
      "Total params: 506,528\n",
      "Trainable params: 506,528\n",
      "Non-trainable params: 0\n",
      "_________________________________________________________________\n"
     ]
    }
   ],
   "source": [
    "model.summary()"
   ]
  },
  {
   "cell_type": "code",
   "execution_count": 0,
   "metadata": {
    "colab": {
     "base_uri": "https://localhost:8080/",
     "height": 253
    },
    "colab_type": "code",
    "id": "ZLhdS_uEYzVB",
    "outputId": "fa664439-0403-4d8a-8093-000423b6200e"
   },
   "outputs": [
    {
     "name": "stdout",
     "output_type": "stream",
     "text": [
      "Train on 12632 samples, validate on 1404 samples\n",
      "Epoch 1/5\n",
      "12632/12632 [==============================] - 203s 16ms/step - loss: 0.1824 - crf_viterbi_accuracy: 0.9466 - val_loss: 0.0999 - val_crf_viterbi_accuracy: 0.9692\n",
      "Epoch 2/5\n",
      "12632/12632 [==============================] - 201s 16ms/step - loss: 0.0689 - crf_viterbi_accuracy: 0.9775 - val_loss: 0.0735 - val_crf_viterbi_accuracy: 0.9749\n",
      "Epoch 3/5\n",
      "12632/12632 [==============================] - 201s 16ms/step - loss: 0.0404 - crf_viterbi_accuracy: 0.9864 - val_loss: 0.0576 - val_crf_viterbi_accuracy: 0.9803\n",
      "Epoch 4/5\n",
      "12632/12632 [==============================] - 200s 16ms/step - loss: 0.0260 - crf_viterbi_accuracy: 0.9912 - val_loss: 0.0495 - val_crf_viterbi_accuracy: 0.9822\n",
      "Epoch 5/5\n",
      "12632/12632 [==============================] - 200s 16ms/step - loss: 0.0175 - crf_viterbi_accuracy: 0.9941 - val_loss: 0.0459 - val_crf_viterbi_accuracy: 0.9829\n",
      "train time: 1008.106s\n"
     ]
    }
   ],
   "source": [
    "t0 = time()\n",
    "history = model.fit(X_train, np.array(y_train), batch_size=32, epochs=5,\n",
    "                    validation_split=0.1, verbose=1)\n",
    "train_time = time() - t0\n",
    "print(\"train time: %0.3fs\" % train_time)"
   ]
  },
  {
   "cell_type": "code",
   "execution_count": 0,
   "metadata": {
    "colab": {
     "base_uri": "https://localhost:8080/",
     "height": 269
    },
    "colab_type": "code",
    "id": "OMW8h8lZNzPZ",
    "outputId": "dd5264b6-675a-4653-9165-282ed7b9b8b2"
   },
   "outputs": [
    {
     "data": {
      "image/png": "[encoded data removed]",
      "text/plain": [
       "<Figure size 288x288 with 1 Axes>"
      ]
     },
     "metadata": {
      "tags": []
     },
     "output_type": "display_data"
    }
   ],
   "source": [
    "hist = pd.DataFrame(history.history)\n",
    "\n",
    "plt.figure(figsize=(4,4))\n",
    "plt.plot(hist[\"crf_viterbi_accuracy\"])\n",
    "plt.plot(hist[\"val_crf_viterbi_accuracy\"])\n",
    "plt.show()"
   ]
  },
  {
   "cell_type": "code",
   "execution_count": 0,
   "metadata": {
    "colab": {
     "base_uri": "https://localhost:8080/",
     "height": 53
    },
    "colab_type": "code",
    "id": "VuvFzeLQN0ub",
    "outputId": "07b9a290-0529-4094-e9b0-ad93c2f4192b"
   },
   "outputs": [
    {
     "name": "stdout",
     "output_type": "stream",
     "text": [
      "373/373 [==============================] - 3s 7ms/step\n",
      "test time:  2.776s\n"
     ]
    }
   ],
   "source": [
    "t0 = time()\n",
    "test_pred = model.predict(X_test, verbose=1)\n",
    "test_time = time() - t0\n",
    "print(\"test time:  %0.3fs\" % test_time)"
   ]
  },
  {
   "cell_type": "code",
   "execution_count": null,
   "metadata": {},
   "outputs": [],
   "source": [
    "idx2tag = {i: w for w, i in tag2idx.items()}\n",
    "\n",
    "def pred2label(pred):\n",
    "    out = []\n",
    "    for pred_i in pred:\n",
    "        out_i = []\n",
    "        for p in pred_i:\n",
    "            p_i = np.argmax(p)\n",
    "            out_i.append(idx2tag[p_i].replace(\"PAD\", \"O\"))\n",
    "        out.append(out_i)\n",
    "    return out\n",
    "    \n",
    "pred_labels = pred2label(test_pred)\n",
    "test_labels = pred2label(y_test)\n"
   ]
  },
  {
   "cell_type": "code",
   "execution_count": 0,
   "metadata": {
    "colab": {
     "base_uri": "https://localhost:8080/",
     "height": 215
    },
    "colab_type": "code",
    "id": "kto1C2BTuOVE",
    "outputId": "6aff6302-76a5-46bf-baae-21a19b086f29"
   },
   "outputs": [
    {
     "name": "stdout",
     "output_type": "stream",
     "text": [
      "F1-score: 78.4%\n",
      "           precision    recall  f1-score   support\n",
      "\n",
      "      LOC       0.88      0.83      0.85       161\n",
      "      PER       0.75      0.65      0.70       221\n",
      "      ORG       0.86      0.86      0.86       192\n",
      "     MISC       0.68      0.64      0.66        67\n",
      "\n",
      "micro avg       0.81      0.76      0.78       641\n",
      "macro avg       0.81      0.76      0.78       641\n",
      "\n"
     ]
    }
   ],
   "source": [
    "print(\"F1-score: {:.1%}\".format(f1_score(test_labels, pred_labels)))\n",
    "print(classification_report(test_labels, pred_labels))"
   ]
  },
  {
   "cell_type": "code",
   "execution_count": 0,
   "metadata": {
    "colab": {
     "base_uri": "https://localhost:8080/",
     "height": 53
    },
    "colab_type": "code",
    "id": "DtaEoBh2uU8i",
    "outputId": "4a333be3-ae71-4531-e768-7b3cf0869729"
   },
   "outputs": [
    {
     "name": "stdout",
     "output_type": "stream",
     "text": [
      "0.6990291262135923\n",
      "0.935656836461126\n"
     ]
    }
   ],
   "source": [
    "y_test_per = [['PER' if 'PER' in w else 'O' for w in s] for s in test_labels]\n",
    "y_test_per_acc = [True if 'PER' in s else False for s in y_test_per]\n",
    "\n",
    "y_pred_per = [['PER' if 'PER' in w else 'O' for w in s] for s in pred_labels]\n",
    "y_pred_per_acc = [True if 'PER' in s else False for s in y_pred_per]\n",
    "\n",
    "f1 = f1_score(y_test_per, y_pred_per)\n",
    "acc = accuracy_score(y_test_per_acc, y_pred_per_acc)\n",
    "print(f1)\n",
    "print(acc)"
   ]
  },
  {
   "cell_type": "code",
   "execution_count": 0,
   "metadata": {
    "colab": {},
    "colab_type": "code",
    "id": "kO1pcZ8Luaai"
   },
   "outputs": [],
   "source": [
    "results.append(['LSTM-CRF', f1, acc, train_time, test_time ])"
   ]
  },
  {
   "cell_type": "code",
   "execution_count": 0,
   "metadata": {
    "colab": {},
    "colab_type": "code",
    "id": "RVZ7VhsFvnEj"
   },
   "outputs": [],
   "source": [
    "df = pd.DataFrame(results, columns=['Model','f1','acc','train_time','test_time'])"
   ]
  },
  {
   "cell_type": "code",
   "execution_count": 0,
   "metadata": {
    "colab": {},
    "colab_type": "code",
    "id": "jiyod_gzxJ01"
   },
   "outputs": [],
   "source": [
    "df.to_csv('./results.csv',index=False)"
   ]
  },
  {
   "cell_type": "code",
   "execution_count": 0,
   "metadata": {
    "colab": {
     "base_uri": "https://localhost:8080/",
     "height": 142
    },
    "colab_type": "code",
    "id": "AXOGCrbJxR0X",
    "outputId": "01e3056b-21c0-414d-f781-c79331de9518"
   },
   "outputs": [
    {
     "data": {
      "text/html": [
       "<div>\n",
       "<style scoped>\n",
       "    .dataframe tbody tr th:only-of-type {\n",
       "        vertical-align: middle;\n",
       "    }\n",
       "\n",
       "    .dataframe tbody tr th {\n",
       "        vertical-align: top;\n",
       "    }\n",
       "\n",
       "    .dataframe thead th {\n",
       "        text-align: right;\n",
       "    }\n",
       "</style>\n",
       "<table border=\"1\" class=\"dataframe\">\n",
       "  <thead>\n",
       "    <tr style=\"text-align: right;\">\n",
       "      <th></th>\n",
       "      <th>Model</th>\n",
       "      <th>f1</th>\n",
       "      <th>acc</th>\n",
       "      <th>train_time</th>\n",
       "      <th>test_time</th>\n",
       "    </tr>\n",
       "  </thead>\n",
       "  <tbody>\n",
       "    <tr>\n",
       "      <th>0</th>\n",
       "      <td>CRF</td>\n",
       "      <td>0.907801</td>\n",
       "      <td>0.962466</td>\n",
       "      <td>35.016066</td>\n",
       "      <td>0.064495</td>\n",
       "    </tr>\n",
       "    <tr>\n",
       "      <th>1</th>\n",
       "      <td>Simple_BiLSTMs</td>\n",
       "      <td>0.682292</td>\n",
       "      <td>0.911528</td>\n",
       "      <td>590.280816</td>\n",
       "      <td>1.512472</td>\n",
       "    </tr>\n",
       "    <tr>\n",
       "      <th>2</th>\n",
       "      <td>LSTM-CRF</td>\n",
       "      <td>0.699029</td>\n",
       "      <td>0.935657</td>\n",
       "      <td>1008.106285</td>\n",
       "      <td>2.776443</td>\n",
       "    </tr>\n",
       "  </tbody>\n",
       "</table>\n",
       "</div>"
      ],
      "text/plain": [
       "            Model        f1       acc   train_time  test_time\n",
       "0             CRF  0.907801  0.962466    35.016066   0.064495\n",
       "1  Simple_BiLSTMs  0.682292  0.911528   590.280816   1.512472\n",
       "2        LSTM-CRF  0.699029  0.935657  1008.106285   2.776443"
      ]
     },
     "execution_count": 45,
     "metadata": {
      "tags": []
     },
     "output_type": "execute_result"
    }
   ],
   "source": [
    "results = pd.read_csv('./results.csv')\n",
    "results"
   ]
  },
  {
   "cell_type": "markdown",
   "metadata": {
    "colab_type": "text",
    "id": "tIlstMTZrbD2"
   },
   "source": [
    "## c. LSTMs With Character Embeddings"
   ]
  },
  {
   "cell_type": "code",
   "execution_count": 0,
   "metadata": {
    "colab": {
     "base_uri": "https://localhost:8080/",
     "height": 506
    },
    "colab_type": "code",
    "id": "sMQwKiQ8JMp3",
    "outputId": "21207695-8e47-489d-a4df-ba998525c19d"
   },
   "outputs": [
    {
     "name": "stdout",
     "output_type": "stream",
     "text": [
      "Uninstalling Keras-2.2.4:\n",
      "  Would remove:\n",
      "    /usr/local/lib/python3.6/dist-packages/Keras-2.2.4.dist-info/*\n",
      "    /usr/local/lib/python3.6/dist-packages/docs/*\n",
      "    /usr/local/lib/python3.6/dist-packages/keras/*\n",
      "  Would not remove (might be manually added):\n",
      "    /usr/local/lib/python3.6/dist-packages/docs/md_autogen.py\n",
      "    /usr/local/lib/python3.6/dist-packages/docs/update_docs.py\n",
      "Proceed (y/n)? y\n",
      "  Successfully uninstalled Keras-2.2.4\n",
      "Collecting keras==2.2.5\n",
      "  Using cached https://files.pythonhosted.org/packages/f8/ba/2d058dcf1b85b9c212cc58264c98a4a7dd92c989b798823cc5690d062bb2/Keras-2.2.5-py2.py3-none-any.whl\n",
      "Requirement already satisfied: pyyaml in /usr/local/lib/python3.6/dist-packages (from keras==2.2.5) (3.13)\n",
      "Requirement already satisfied: keras-applications>=1.0.8 in /usr/local/lib/python3.6/dist-packages (from keras==2.2.5) (1.0.8)\n",
      "Requirement already satisfied: six>=1.9.0 in /usr/local/lib/python3.6/dist-packages (from keras==2.2.5) (1.12.0)\n",
      "Requirement already satisfied: numpy>=1.9.1 in /usr/local/lib/python3.6/dist-packages (from keras==2.2.5) (1.16.5)\n",
      "Requirement already satisfied: keras-preprocessing>=1.1.0 in /usr/local/lib/python3.6/dist-packages (from keras==2.2.5) (1.1.0)\n",
      "Requirement already satisfied: h5py in /usr/local/lib/python3.6/dist-packages (from keras==2.2.5) (2.8.0)\n",
      "Requirement already satisfied: scipy>=0.14 in /usr/local/lib/python3.6/dist-packages (from keras==2.2.5) (1.3.1)\n",
      "Installing collected packages: keras\n",
      "Successfully installed keras-2.2.5\n"
     ]
    },
    {
     "data": {
      "application/vnd.colab-display-data+json": {
       "pip_warning": {
        "packages": [
         "keras"
        ]
       }
      }
     },
     "metadata": {
      "tags": []
     },
     "output_type": "display_data"
    }
   ],
   "source": [
    "!pip uninstall keras\n",
    "!pip install keras==2.2.5\n",
    "\n",
    "## reset ipynb "
   ]
  },
  {
   "cell_type": "code",
   "execution_count": 0,
   "metadata": {
    "colab": {
     "base_uri": "https://localhost:8080/",
     "height": 53
    },
    "colab_type": "code",
    "id": "gHss1PaDJXPa",
    "outputId": "e0bedd34-5742-422e-b83b-da142b7a5171"
   },
   "outputs": [
    {
     "name": "stdout",
     "output_type": "stream",
     "text": [
      "Using TensorFlow backend.\n",
      "2.2.5\n"
     ]
    }
   ],
   "source": [
    "!python -c 'import keras; print(keras.__version__)'"
   ]
  },
  {
   "cell_type": "code",
   "execution_count": 0,
   "metadata": {
    "colab": {
     "base_uri": "https://localhost:8080/",
     "height": 53
    },
    "colab_type": "code",
    "id": "2qsEjgIwx0Kg",
    "outputId": "ab69d565-5f3a-42f6-b972-86cdeaa8a72f"
   },
   "outputs": [
    {
     "name": "stdout",
     "output_type": "stream",
     "text": [
      "Drive already mounted at /gdrive; to attempt to forcibly remount, call drive.mount(\"/gdrive\", force_remount=True).\n",
      "/gdrive\n"
     ]
    }
   ],
   "source": [
    "from google.colab import drive\n",
    "drive.mount('/gdrive')\n",
    "%cd /gdrive"
   ]
  },
  {
   "cell_type": "code",
   "execution_count": 0,
   "metadata": {
    "colab": {
     "base_uri": "https://localhost:8080/",
     "height": 35
    },
    "colab_type": "code",
    "id": "EjDxMrhjx2Sa",
    "outputId": "cbab750d-8f4a-49ab-ec5d-8575433da12d"
   },
   "outputs": [
    {
     "name": "stderr",
     "output_type": "stream",
     "text": [
      "Using TensorFlow backend.\n"
     ]
    }
   ],
   "source": [
    "import os\n",
    "import numpy as np\n",
    "import pandas as pd\n",
    "import re\n",
    "import matplotlib.pyplot as plt\n",
    "from itertools import chain\n",
    "import gc\n",
    "from time import time\n",
    "\n",
    "import nltk\n",
    "import sklearn\n",
    "import scipy.stats\n",
    "from sklearn.metrics import make_scorer\n",
    "# from sklearn.cross_validation import cross_val_score\n",
    "# from sklearn.grid_search import RandomizedSearchCV\n",
    "from sklearn.model_selection import cross_val_score\n",
    "from sklearn.model_selection import RandomizedSearchCV\n",
    "\n",
    "import sklearn_crfsuite\n",
    "from sklearn_crfsuite import scorers\n",
    "from sklearn_crfsuite import metrics\n",
    "\n",
    "from keras.preprocessing.sequence import pad_sequences\n",
    "from keras.models import Model, Input\n",
    "from keras.layers import LSTM, Embedding, Dense, TimeDistributed, Dropout, Conv1D\n",
    "from keras.layers import Bidirectional, concatenate, SpatialDropout1D, GlobalMaxPooling1D\n",
    "from keras.utils import to_categorical\n",
    "from keras_contrib.layers import CRF\n",
    "from keras import backend as K\n",
    "import tensorflow as tf\n",
    "\n",
    "from seqeval.metrics import precision_score, recall_score, f1_score, classification_report, accuracy_score\n",
    "\n",
    "results = []\n"
   ]
  },
  {
   "cell_type": "code",
   "execution_count": 0,
   "metadata": {
    "colab": {
     "base_uri": "https://localhost:8080/",
     "height": 53
    },
    "colab_type": "code",
    "id": "rSIFHjLlx34L",
    "outputId": "97c3ee4b-e85d-4f9c-f9f8-dc3ad3467f18"
   },
   "outputs": [
    {
     "name": "stdout",
     "output_type": "stream",
     "text": [
      "Using TensorFlow backend.\n",
      "2.2.5\n"
     ]
    }
   ],
   "source": [
    "!python -c 'import keras; print(keras.__version__)'\n",
    "## needs to be 2.2.5"
   ]
  },
  {
   "cell_type": "code",
   "execution_count": 0,
   "metadata": {
    "colab": {},
    "colab_type": "code",
    "id": "XeD3EXmy1qsn"
   },
   "outputs": [],
   "source": [
    "os.chdir('/gdrive/My Drive/estsoft')\n",
    "\n",
    "#train_CoNLL03_sample = open('./data/train.txt')\n",
    "train_CoNLL03_sample = open('./data/train_full.txt')\n",
    "train = [line for line in train_CoNLL03_sample]\n",
    "\n",
    "dev_CoNLL03_sample = open('./data/dev.txt')\n",
    "dev = [line for line in dev_CoNLL03_sample]\n",
    "\n",
    "import re\n",
    "def change_form(f):\n",
    "    form = []\n",
    "    temp = []\n",
    "    for line in f:\n",
    "        if len(line)==0 or line[0]==\"\\n\":\n",
    "            if len(temp) > 0:\n",
    "                form.append(temp)\n",
    "                temp = []\n",
    "            continue\n",
    "        feat = line.split(' ')\n",
    "        feat[-1] = re.sub(r'\\n', '', feat[-1])\n",
    "        temp.append((feat[0],feat[1],feat[3]))\n",
    "    return form\n",
    "\n",
    "new_train = change_form(train)\n",
    "new_dev = change_form(dev)"
   ]
  },
  {
   "cell_type": "code",
   "execution_count": 0,
   "metadata": {
    "colab": {
     "base_uri": "https://localhost:8080/",
     "height": 71
    },
    "colab_type": "code",
    "id": "uETkqAe6Mw0W",
    "outputId": "a232da59-3d2d-406a-c344-5bde12444009"
   },
   "outputs": [
    {
     "name": "stdout",
     "output_type": "stream",
     "text": [
      "14041\n",
      "14036\n",
      "60\n"
     ]
    }
   ],
   "source": [
    "print(len(new_train))\n",
    "MAX_SEN_LEN = 60\n",
    "new_train = [s for s in new_train if (len(s) <= MAX_SEN_LEN)]\n",
    "print(len(new_train))\n",
    "print(max(len(sen) for sen in new_train)) "
   ]
  },
  {
   "cell_type": "code",
   "execution_count": 0,
   "metadata": {
    "colab": {
     "base_uri": "https://localhost:8080/",
     "height": 71
    },
    "colab_type": "code",
    "id": "uUifT6dx1qmI",
    "outputId": "7aca8fd9-497d-4beb-bc8e-828266b1c0bd"
   },
   "outputs": [
    {
     "name": "stdout",
     "output_type": "stream",
     "text": [
      "60\n",
      "23574\n",
      "23576\n"
     ]
    }
   ],
   "source": [
    "words = set()\n",
    "tags = set()\n",
    "max_len_sent = -1\n",
    "for sent in new_train:\n",
    "    for w in sent:\n",
    "        words.add(w[0])\n",
    "        tags.add(w[2])\n",
    "    if len(sent) > max_len_sent:\n",
    "        max_len_sent = len(sent)\n",
    "words = list(words)\n",
    "tags = list(tags)\n",
    "\n",
    "print(max_len_sent)\n",
    "print(len(words))\n",
    "\n",
    "words.append(\"PAD\")\n",
    "words.append(\"UNK\")\n",
    "\n",
    "n_words = len(words)\n",
    "n_tags = len(tags)\n",
    "print(n_words)"
   ]
  },
  {
   "cell_type": "code",
   "execution_count": 0,
   "metadata": {
    "colab": {
     "base_uri": "https://localhost:8080/",
     "height": 53
    },
    "colab_type": "code",
    "id": "dDaurwZW11vl",
    "outputId": "b8571bcb-7494-4e74-bbaf-6c52f91f9b13"
   },
   "outputs": [
    {
     "name": "stdout",
     "output_type": "stream",
     "text": [
      "61 -------------------------------------------------------------\n",
      "17 Chester-le-Street\n"
     ]
    }
   ],
   "source": [
    "max_length,longest_element = max([(len(x),x) for x in words])\n",
    "print(max_length, longest_element)\n",
    "dev_words = [w[0] for s in new_dev for w in s ]\n",
    "max_length,longest_element = max([(len(x),x) for x in dev_words])\n",
    "print(max_length, longest_element)\n"
   ]
  },
  {
   "cell_type": "code",
   "execution_count": 0,
   "metadata": {
    "colab": {
     "base_uri": "https://localhost:8080/",
     "height": 125
    },
    "colab_type": "code",
    "id": "qTr-UJAHUPpz",
    "outputId": "1a01dab1-048f-476c-f748-0d1bef2e8893"
   },
   "outputs": [
    {
     "data": {
      "text/plain": [
       "['Company-------------Price---Broker----------------',\n",
       " 'DAY--COMPANY----PERIOD--CONSENSUS----RANGE-------PVS',\n",
       " '------------------------------------------------------------',\n",
       " '----------------------------------',\n",
       " '--------------------------------',\n",
       " '-------------------------------------------------------------']"
      ]
     },
     "execution_count": 7,
     "metadata": {
      "tags": []
     },
     "output_type": "execute_result"
    }
   ],
   "source": [
    "[w[0] for s in new_train for w in s  if len(w[0]) >= 28]"
   ]
  },
  {
   "cell_type": "code",
   "execution_count": 0,
   "metadata": {
    "colab": {},
    "colab_type": "code",
    "id": "qaX2jQu6M-Mx"
   },
   "outputs": [],
   "source": [
    "max_len = 60\n",
    "#max_len_char = 24\n",
    "max_len_char = 28\n",
    "\n",
    "words.remove(\"PAD\")\n",
    "words.remove(\"UNK\")\n",
    "word2idx = {w: i + 2 for i, w in enumerate(words)}\n",
    "words.append(\"PAD\")\n",
    "words.append(\"UNK\")\n",
    "word2idx[\"UNK\"] = 1\n",
    "word2idx[\"PAD\"] = 0\n",
    "\n",
    "idx2word = {i: w for w, i in word2idx.items()}\n",
    "tag2idx = {t: i + 1 for i, t in enumerate(tags)}\n",
    "tag2idx[\"PAD\"] = 0\n",
    "idx2tag = {i: w for w, i in tag2idx.items()}\n"
   ]
  },
  {
   "cell_type": "code",
   "execution_count": 0,
   "metadata": {
    "colab": {
     "base_uri": "https://localhost:8080/",
     "height": 35
    },
    "colab_type": "code",
    "id": "P4dfyvrvDUFA",
    "outputId": "cb1a4f0c-f6d7-4df8-98cf-0d39ec2bb15e"
   },
   "outputs": [
    {
     "name": "stdout",
     "output_type": "stream",
     "text": [
      "84\n"
     ]
    }
   ],
   "source": [
    "chars = set([w_i for w in words for w_i in w])\n",
    "n_chars = len(chars)\n",
    "print(n_chars)\n",
    "\n",
    "char2idx = {c: i + 2 for i, c in enumerate(chars)}\n",
    "char2idx[\"UNK\"] = 1\n",
    "char2idx[\"PAD\"] = 0\n"
   ]
  },
  {
   "cell_type": "code",
   "execution_count": 0,
   "metadata": {
    "colab": {},
    "colab_type": "code",
    "id": "8yA0l1Hh2FhQ"
   },
   "outputs": [],
   "source": [
    "X_tr = [[word2idx[w[0]] for w in s] for s in new_train]\n",
    "\n",
    "X_te = []\n",
    "for s in new_dev:\n",
    "    temp = []\n",
    "    for w in s:\n",
    "        if w[0] in word2idx:\n",
    "            temp.append(word2idx[w[0]])\n",
    "        else:\n",
    "            temp.append(word2idx['UNK'])\n",
    "    X_te.append(temp)\n",
    "\n",
    "X_train = pad_sequences(maxlen=max_len, sequences=X_tr, value=word2idx[\"PAD\"], \n",
    "                       padding='post', truncating='post')\n",
    "X_test = pad_sequences(maxlen=max_len, sequences=X_te, value=word2idx[\"PAD\"], \n",
    "                       padding='post', truncating='post')\n"
   ]
  },
  {
   "cell_type": "code",
   "execution_count": 0,
   "metadata": {
    "colab": {},
    "colab_type": "code",
    "id": "PqFQGRW7DSXd"
   },
   "outputs": [],
   "source": [
    "def forthe_char(sentences, max_len, max_len_char):\n",
    "    X_char = []\n",
    "    for sentence in sentences:\n",
    "        sent_seq = []\n",
    "        for i in range(max_len):\n",
    "            word_seq = []\n",
    "            for j in range(max_len_char):\n",
    "                try:\n",
    "                    word_seq.append(char2idx.get(sentence[i][0][j]))\n",
    "                except:\n",
    "                    word_seq.append(char2idx.get(\"PAD\"))\n",
    "            sent_seq.append(word_seq)\n",
    "        X_char.append(np.array(sent_seq))\n",
    "    return X_char\n",
    "\n",
    "X_char_train = forthe_char(new_train,max_len, max_len_char)\n",
    "X_char_test = forthe_char(new_dev,max_len, max_len_char)\n"
   ]
  },
  {
   "cell_type": "code",
   "execution_count": 0,
   "metadata": {
    "colab": {},
    "colab_type": "code",
    "id": "WnPEQ_2jDSGG"
   },
   "outputs": [],
   "source": [
    "y_tr = [[tag2idx[w[2]] for w in s] for s in new_train]\n",
    "y_te = [[tag2idx[w[2]] for w in s] for s in new_dev]\n",
    "\n",
    "# y_train = pad_sequences(maxlen=max_len, sequences=y_tr, padding=\"post\", value=tag2idx[\"O\"])\n",
    "# y_test = pad_sequences(maxlen=max_len, sequences=y_te, padding=\"post\", value=tag2idx[\"O\"])\n",
    "\n",
    "y_train = pad_sequences(maxlen=max_len, sequences=y_tr, value=tag2idx[\"PAD\"],\n",
    "                  padding='post', truncating='post')\n",
    "y_test = pad_sequences(maxlen=max_len, sequences=y_te, value=tag2idx[\"PAD\"],\n",
    "                  padding='post', truncating='post')\n"
   ]
  },
  {
   "cell_type": "code",
   "execution_count": 0,
   "metadata": {
    "colab": {
     "base_uri": "https://localhost:8080/",
     "height": 145
    },
    "colab_type": "code",
    "id": "k1re6_ymD0Hn",
    "outputId": "af44fff5-1a17-42c8-d5c2-15bedeb5f1cb"
   },
   "outputs": [
    {
     "name": "stdout",
     "output_type": "stream",
     "text": [
      "WARNING:tensorflow:From /usr/local/lib/python3.6/dist-packages/keras/backend/tensorflow_backend.py:107: The name tf.reset_default_graph is deprecated. Please use tf.compat.v1.reset_default_graph instead.\n",
      "\n",
      "WARNING:tensorflow:From /usr/local/lib/python3.6/dist-packages/keras/backend/tensorflow_backend.py:111: The name tf.placeholder_with_default is deprecated. Please use tf.compat.v1.placeholder_with_default instead.\n",
      "\n",
      "WARNING:tensorflow:From /usr/local/lib/python3.6/dist-packages/keras/backend/tensorflow_backend.py:66: The name tf.get_default_graph is deprecated. Please use tf.compat.v1.get_default_graph instead.\n",
      "\n"
     ]
    }
   ],
   "source": [
    "# del input, out, model\n",
    "# del model, history, out\n",
    "# del word_in, emb_word, char_enc, x, main_lstm, out\n",
    "gc.collect()\n",
    "K.clear_session()\n",
    "tf.reset_default_graph()\n"
   ]
  },
  {
   "cell_type": "code",
   "execution_count": 0,
   "metadata": {
    "colab": {
     "base_uri": "https://localhost:8080/",
     "height": 343
    },
    "colab_type": "code",
    "id": "mXhTGtcVDmCi",
    "outputId": "530a5908-d16d-439d-9489-3ae15cc4024b"
   },
   "outputs": [
    {
     "name": "stdout",
     "output_type": "stream",
     "text": [
      "WARNING:tensorflow:From /usr/local/lib/python3.6/dist-packages/keras/backend/tensorflow_backend.py:541: The name tf.placeholder is deprecated. Please use tf.compat.v1.placeholder instead.\n",
      "\n",
      "WARNING:tensorflow:From /usr/local/lib/python3.6/dist-packages/keras/backend/tensorflow_backend.py:4432: The name tf.random_uniform is deprecated. Please use tf.random.uniform instead.\n",
      "\n",
      "WARNING:tensorflow:From /usr/local/lib/python3.6/dist-packages/keras/backend/tensorflow_backend.py:3733: calling dropout (from tensorflow.python.ops.nn_ops) with keep_prob is deprecated and will be removed in a future version.\n",
      "Instructions for updating:\n",
      "Please use `rate` instead of `keep_prob`. Rate should be set to `rate = 1 - keep_prob`.\n",
      "WARNING:tensorflow:From /usr/local/lib/python3.6/dist-packages/keras/backend/tensorflow_backend.py:3239: add_dispatch_support.<locals>.wrapper (from tensorflow.python.ops.array_ops) is deprecated and will be removed in a future version.\n",
      "Instructions for updating:\n",
      "Use tf.where in 2.0, which has the same broadcast rule as np.where\n",
      "WARNING:tensorflow:Large dropout rate: 0.6 (>0.5). In TensorFlow 2.x, dropout() uses dropout rate instead of keep_prob. Please ensure that this is intended.\n",
      "WARNING:tensorflow:Large dropout rate: 0.6 (>0.5). In TensorFlow 2.x, dropout() uses dropout rate instead of keep_prob. Please ensure that this is intended.\n",
      "WARNING:tensorflow:Large dropout rate: 0.6 (>0.5). In TensorFlow 2.x, dropout() uses dropout rate instead of keep_prob. Please ensure that this is intended.\n",
      "WARNING:tensorflow:Large dropout rate: 0.6 (>0.5). In TensorFlow 2.x, dropout() uses dropout rate instead of keep_prob. Please ensure that this is intended.\n",
      "WARNING:tensorflow:Large dropout rate: 0.6 (>0.5). In TensorFlow 2.x, dropout() uses dropout rate instead of keep_prob. Please ensure that this is intended.\n",
      "WARNING:tensorflow:From /usr/local/lib/python3.6/dist-packages/keras/optimizers.py:793: The name tf.train.Optimizer is deprecated. Please use tf.compat.v1.train.Optimizer instead.\n",
      "\n"
     ]
    }
   ],
   "source": [
    "# input and embedding for words\n",
    "word_in = Input(shape=(max_len,))\n",
    "emb_word = Embedding(input_dim=n_words + 2, output_dim=20,\n",
    "                     input_length=max_len, mask_zero=True)(word_in)\n",
    "\n",
    "# input and embeddings for characters\n",
    "char_in = Input(shape=(max_len, max_len_char,))\n",
    "emb_char = TimeDistributed(Embedding(input_dim=n_chars + 2, output_dim=10,\n",
    "                           input_length=max_len_char, mask_zero=True))(char_in)\n",
    "# character LSTM to get word encodings by characters\n",
    "char_enc = TimeDistributed(LSTM(units=20, return_sequences=False,\n",
    "                                recurrent_dropout=0.5))(emb_char)\n",
    "# main LSTM\n",
    "x = concatenate([emb_word, char_enc])\n",
    "x = SpatialDropout1D(0.3)(x)\n",
    "main_lstm = Bidirectional(LSTM(units=50, return_sequences=True,\n",
    "                               recurrent_dropout=0.6))(x)\n",
    "out = TimeDistributed(Dense(n_tags + 1, activation=\"softmax\"))(main_lstm)\n",
    "model = Model([word_in, char_in], out)\n",
    "model.compile(optimizer=\"adam\", loss=\"sparse_categorical_crossentropy\", metrics=[\"acc\"])"
   ]
  },
  {
   "cell_type": "code",
   "execution_count": 0,
   "metadata": {
    "colab": {
     "base_uri": "https://localhost:8080/",
     "height": 503
    },
    "colab_type": "code",
    "id": "7-JiXJhAD65L",
    "outputId": "9f4fb02b-5bc6-4b97-9c46-8f1958f82b68"
   },
   "outputs": [
    {
     "name": "stdout",
     "output_type": "stream",
     "text": [
      "Model: \"model_1\"\n",
      "__________________________________________________________________________________________________\n",
      "Layer (type)                    Output Shape         Param #     Connected to                     \n",
      "==================================================================================================\n",
      "input_2 (InputLayer)            (None, 60, 28)       0                                            \n",
      "__________________________________________________________________________________________________\n",
      "input_1 (InputLayer)            (None, 60)           0                                            \n",
      "__________________________________________________________________________________________________\n",
      "time_distributed_1 (TimeDistrib (None, 60, 28, 10)   860         input_2[0][0]                    \n",
      "__________________________________________________________________________________________________\n",
      "embedding_1 (Embedding)         (None, 60, 20)       471560      input_1[0][0]                    \n",
      "__________________________________________________________________________________________________\n",
      "time_distributed_2 (TimeDistrib (None, 60, 20)       2480        time_distributed_1[0][0]         \n",
      "__________________________________________________________________________________________________\n",
      "concatenate_1 (Concatenate)     (None, 60, 40)       0           embedding_1[0][0]                \n",
      "                                                                 time_distributed_2[0][0]         \n",
      "__________________________________________________________________________________________________\n",
      "spatial_dropout1d_1 (SpatialDro (None, 60, 40)       0           concatenate_1[0][0]              \n",
      "__________________________________________________________________________________________________\n",
      "bidirectional_1 (Bidirectional) (None, 60, 100)      36400       spatial_dropout1d_1[0][0]        \n",
      "__________________________________________________________________________________________________\n",
      "time_distributed_3 (TimeDistrib (None, 60, 10)       1010        bidirectional_1[0][0]            \n",
      "==================================================================================================\n",
      "Total params: 512,310\n",
      "Trainable params: 512,310\n",
      "Non-trainable params: 0\n",
      "__________________________________________________________________________________________________\n"
     ]
    }
   ],
   "source": [
    "model.summary()"
   ]
  },
  {
   "cell_type": "code",
   "execution_count": 0,
   "metadata": {
    "colab": {
     "base_uri": "https://localhost:8080/",
     "height": 253
    },
    "colab_type": "code",
    "id": "vlqZpKvEDlpR",
    "outputId": "307c7ced-0385-4129-ebf6-713a75d40f79"
   },
   "outputs": [
    {
     "name": "stdout",
     "output_type": "stream",
     "text": [
      "Train on 12632 samples, validate on 1404 samples\n",
      "Epoch 1/5\n",
      "12632/12632 [==============================] - 203s 16ms/step - loss: 0.7503 - acc: 0.8292 - val_loss: 0.3634 - val_acc: 0.8929\n",
      "Epoch 2/5\n",
      "12632/12632 [==============================] - 200s 16ms/step - loss: 0.2953 - acc: 0.9014 - val_loss: 0.2219 - val_acc: 0.9216\n",
      "Epoch 3/5\n",
      "12632/12632 [==============================] - 198s 16ms/step - loss: 0.1923 - acc: 0.9359 - val_loss: 0.1982 - val_acc: 0.9388\n",
      "Epoch 4/5\n",
      "12632/12632 [==============================] - 198s 16ms/step - loss: 0.1328 - acc: 0.9603 - val_loss: 0.1679 - val_acc: 0.9531\n",
      "Epoch 5/5\n",
      "12632/12632 [==============================] - 199s 16ms/step - loss: 0.0880 - acc: 0.9761 - val_loss: 0.1507 - val_acc: 0.9599\n",
      "train time: 1000.874s\n"
     ]
    }
   ],
   "source": [
    "# history = model.fit([X_train,\n",
    "#                      np.array(X_char_train).reshape((len(X_char_train), max_len, max_len_char))],\n",
    "#                     np.array(y_train).reshape(len(y_train), max_len, 1),\n",
    "#                     batch_size=32, epochs=10, validation_split=0.1, verbose=1)\n",
    "t0 = time()\n",
    "history = model.fit([X_train,\n",
    "                     np.array(X_char_train).reshape((len(X_char_train), max_len, max_len_char))],\n",
    "                    np.array(y_train).reshape(len(y_train), max_len, 1),\n",
    "                    batch_size=32, epochs=5, validation_split=0.1, verbose=1)\n",
    "train_time = time() - t0\n",
    "print(\"train time: %0.3fs\" % train_time)"
   ]
  },
  {
   "cell_type": "code",
   "execution_count": 0,
   "metadata": {
    "colab": {
     "base_uri": "https://localhost:8080/",
     "height": 269
    },
    "colab_type": "code",
    "id": "Av8NSUep93Sh",
    "outputId": "59474663-a700-4bc3-ac85-f75788821975"
   },
   "outputs": [
    {
     "data": {
      "image/png": "[encoded data removed]",
      "text/plain": [
       "<Figure size 288x288 with 1 Axes>"
      ]
     },
     "metadata": {
      "tags": []
     },
     "output_type": "display_data"
    }
   ],
   "source": [
    "hist = pd.DataFrame(history.history)\n",
    "\n",
    "plt.figure(figsize=(4,4))\n",
    "plt.plot(hist[\"acc\"])\n",
    "plt.plot(hist[\"val_acc\"])\n",
    "plt.show()"
   ]
  },
  {
   "cell_type": "code",
   "execution_count": 0,
   "metadata": {
    "colab": {
     "base_uri": "https://localhost:8080/",
     "height": 35
    },
    "colab_type": "code",
    "id": "nNkJNpNtEY2R",
    "outputId": "89e2e0f4-f63f-41a9-cb66-a7f6e1c5f9e8"
   },
   "outputs": [
    {
     "name": "stdout",
     "output_type": "stream",
     "text": [
      "test time:  2.313s\n"
     ]
    }
   ],
   "source": [
    "t0 = time()\n",
    "y_pred = model.predict([X_test, np.array(X_char_test).reshape((len(X_char_test),\n",
    "                                                     max_len, max_len_char))])\n",
    "test_time = time() - t0\n",
    "print(\"test time:  %0.3fs\" % test_time)\n"
   ]
  },
  {
   "cell_type": "code",
   "execution_count": 0,
   "metadata": {
    "colab": {
     "base_uri": "https://localhost:8080/",
     "height": 71
    },
    "colab_type": "code",
    "id": "oSyNd1NRuXt0",
    "outputId": "7d8856b4-9bb0-47df-8dc7-6cb66993a02e"
   },
   "outputs": [
    {
     "data": {
      "text/plain": [
       "array([3, 8, 4, 7, 6, 4, 4, 4, 4, 4, 4, 4, 1, 4, 1, 4, 4, 4, 4, 4, 4, 4,\n",
       "       4, 4, 4, 4, 4, 4, 4, 4, 4, 4, 4, 4, 4, 0, 0, 0, 0, 0, 0, 0, 0, 0,\n",
       "       0, 0, 0, 0, 0, 0, 0, 0, 0, 0, 0, 0, 0, 0, 0, 0], dtype=int32)"
      ]
     },
     "execution_count": 29,
     "metadata": {
      "tags": []
     },
     "output_type": "execute_result"
    }
   ],
   "source": [
    "y_test[2]"
   ]
  },
  {
   "cell_type": "code",
   "execution_count": 0,
   "metadata": {
    "colab": {},
    "colab_type": "code",
    "id": "6K-fh8OMEYf-"
   },
   "outputs": [],
   "source": [
    "idx2tag = {i: w for w, i in tag2idx.items()}\n",
    "\n",
    "def pred2label(pred):\n",
    "    out = []\n",
    "    for pred_i in pred:\n",
    "        out_i = []\n",
    "        for p in pred_i:\n",
    "            p_i = np.argmax(p)\n",
    "            out_i.append(idx2tag[p_i].replace(\"PAD\", \"O\"))\n",
    "        out.append(out_i)\n",
    "    return out\n",
    "    \n",
    "pred_labels = pred2label(y_pred)\n",
    "#test_labels = pred2label(y_test) # char embedding에선 y_test는 to_categorical 적용안됨"
   ]
  },
  {
   "cell_type": "code",
   "execution_count": 0,
   "metadata": {
    "colab": {
     "base_uri": "https://localhost:8080/",
     "height": 197
    },
    "colab_type": "code",
    "id": "BNB7M-SZJSul",
    "outputId": "0b1eff02-fc26-46fd-cf0d-5f472428c260"
   },
   "outputs": [
    {
     "data": {
      "text/plain": [
       "{0: 'PAD',\n",
       " 1: 'B-ORG',\n",
       " 2: 'I-LOC',\n",
       " 3: 'B-MISC',\n",
       " 4: 'O',\n",
       " 5: 'I-ORG',\n",
       " 6: 'I-PER',\n",
       " 7: 'B-PER',\n",
       " 8: 'I-MISC',\n",
       " 9: 'B-LOC'}"
      ]
     },
     "execution_count": 31,
     "metadata": {
      "tags": []
     },
     "output_type": "execute_result"
    }
   ],
   "source": [
    "idx2tag"
   ]
  },
  {
   "cell_type": "code",
   "execution_count": 0,
   "metadata": {
    "colab": {},
    "colab_type": "code",
    "id": "IKTmUaossNym"
   },
   "outputs": [],
   "source": [
    "# idx2tag could change\n",
    "test_labels = [[idx2tag[w] if w != 0 else idx2tag[4]  for w in s] for s in y_test ]"
   ]
  },
  {
   "cell_type": "code",
   "execution_count": 0,
   "metadata": {
    "colab": {
     "base_uri": "https://localhost:8080/",
     "height": 215
    },
    "colab_type": "code",
    "id": "qILIhoPzJ_sX",
    "outputId": "5527ff2c-d905-43dc-adb0-c9162a33dfa3"
   },
   "outputs": [
    {
     "name": "stdout",
     "output_type": "stream",
     "text": [
      "F1-score: 43.0%\n",
      "           precision    recall  f1-score   support\n",
      "\n",
      "     MISC       0.21      0.42      0.28        67\n",
      "      ORG       0.83      0.89      0.86       192\n",
      "      LOC       0.12      0.82      0.21       161\n",
      "      PER       0.56      0.89      0.68       221\n",
      "\n",
      "micro avg       0.29      0.82      0.43       641\n",
      "macro avg       0.49      0.82      0.57       641\n",
      "\n"
     ]
    }
   ],
   "source": [
    "from seqeval.metrics import precision_score, recall_score, f1_score, classification_report\n",
    "print(\"F1-score: {:.1%}\".format(f1_score(test_labels, pred_labels)))\n",
    "print(classification_report(test_labels, pred_labels))"
   ]
  },
  {
   "cell_type": "code",
   "execution_count": 0,
   "metadata": {
    "colab": {
     "base_uri": "https://localhost:8080/",
     "height": 53
    },
    "colab_type": "code",
    "id": "nEpmJ9e-rBPW",
    "outputId": "af5c3a66-f659-4bd1-aef2-3cee46365b12"
   },
   "outputs": [
    {
     "name": "stdout",
     "output_type": "stream",
     "text": [
      "0.8100208768267223\n",
      "0.9249329758713136\n"
     ]
    }
   ],
   "source": [
    "y_test_per = [['PER' if 'PER' in w else 'O' for w in s] for s in test_labels]\n",
    "y_test_per_acc = [True if 'PER' in s else False for s in y_test_per]\n",
    "\n",
    "y_pred_per = [['PER' if 'PER' in w else 'O' for w in s] for s in pred_labels]\n",
    "y_pred_per_acc = [True if 'PER' in s else False for s in y_pred_per]\n",
    "\n",
    "f1 = f1_score(y_test_per, y_pred_per)\n",
    "acc = accuracy_score(y_test_per_acc, y_pred_per_acc)\n",
    "print(f1)\n",
    "print(acc)\n"
   ]
  },
  {
   "cell_type": "code",
   "execution_count": 0,
   "metadata": {
    "colab": {
     "base_uri": "https://localhost:8080/",
     "height": 251
    },
    "colab_type": "code",
    "id": "VBw5m1zy9ke3",
    "outputId": "c1fad6a6-8c30-45bd-8d82-29dba4d6f3ad"
   },
   "outputs": [
    {
     "name": "stdout",
     "output_type": "stream",
     "text": [
      "['O', 'O', 'B-PER', 'O', 'O', 'O', 'O', 'O', 'O', 'O', 'O', 'O']\n",
      "['O', 'O', 'O', 'O', 'O', 'O', 'O', 'O', 'O', 'O', 'O', 'O']\n"
     ]
    },
    {
     "data": {
      "text/plain": [
       "[('CRICKET', 'NNP', 'O'),\n",
       " ('-', ':', 'O'),\n",
       " ('LEICESTERSHIRE', 'NNP', 'B-ORG'),\n",
       " ('TAKE', 'NNP', 'O'),\n",
       " ('OVER', 'IN', 'O'),\n",
       " ('AT', 'NNP', 'O'),\n",
       " ('TOP', 'NNP', 'O'),\n",
       " ('AFTER', 'NNP', 'O'),\n",
       " ('INNINGS', 'NNP', 'O'),\n",
       " ('VICTORY', 'NN', 'O'),\n",
       " ('.', '.', 'O')]"
      ]
     },
     "execution_count": 36,
     "metadata": {
      "tags": []
     },
     "output_type": "execute_result"
    }
   ],
   "source": [
    "print(pred_labels[0][:12])\n",
    "print(y_test_per[0][:12])\n",
    "new_dev[0]"
   ]
  },
  {
   "cell_type": "code",
   "execution_count": 0,
   "metadata": {
    "colab": {
     "base_uri": "https://localhost:8080/",
     "height": 71
    },
    "colab_type": "code",
    "id": "pT59jr6o_Ciw",
    "outputId": "cf202b22-8a08-4f23-e915-1d0d7a120946"
   },
   "outputs": [
    {
     "name": "stdout",
     "output_type": "stream",
     "text": [
      "0.687448275862069\n",
      "0.8778280542986425\n",
      "0.751937984496124\n"
     ]
    }
   ],
   "source": [
    "print(2 * ((0.56  *  0.89 ) / (0.56  +  0.89 ) ))\n",
    "print(recall_score(y_test_per, y_pred_per))\n",
    "print(precision_score(y_test_per, y_pred_per))"
   ]
  },
  {
   "cell_type": "code",
   "execution_count": 0,
   "metadata": {
    "colab": {},
    "colab_type": "code",
    "id": "6RZEWwpn4JrT"
   },
   "outputs": [],
   "source": [
    "results = pd.read_csv('./results.csv')\n",
    "results = results.append({'Model':'Char_Embedding', \n",
    "                          'f1':f1 , \n",
    "                          'acc': acc , \n",
    "                          'train_time': train_time , \n",
    "                          'test_time': test_time},\n",
    "                          ignore_index=True)\n",
    "results.to_csv('./results.csv', index=False)"
   ]
  },
  {
   "cell_type": "code",
   "execution_count": 0,
   "metadata": {
    "colab": {
     "base_uri": "https://localhost:8080/",
     "height": 173
    },
    "colab_type": "code",
    "id": "dqQ3L426KTUH",
    "outputId": "59e96977-c3b4-4eb4-c9e4-1eebc6e3ff2e"
   },
   "outputs": [
    {
     "data": {
      "text/html": [
       "<div>\n",
       "<style scoped>\n",
       "    .dataframe tbody tr th:only-of-type {\n",
       "        vertical-align: middle;\n",
       "    }\n",
       "\n",
       "    .dataframe tbody tr th {\n",
       "        vertical-align: top;\n",
       "    }\n",
       "\n",
       "    .dataframe thead th {\n",
       "        text-align: right;\n",
       "    }\n",
       "</style>\n",
       "<table border=\"1\" class=\"dataframe\">\n",
       "  <thead>\n",
       "    <tr style=\"text-align: right;\">\n",
       "      <th></th>\n",
       "      <th>Model</th>\n",
       "      <th>f1</th>\n",
       "      <th>acc</th>\n",
       "      <th>train_time</th>\n",
       "      <th>test_time</th>\n",
       "    </tr>\n",
       "  </thead>\n",
       "  <tbody>\n",
       "    <tr>\n",
       "      <th>0</th>\n",
       "      <td>CRF</td>\n",
       "      <td>0.907801</td>\n",
       "      <td>0.962466</td>\n",
       "      <td>35.016066</td>\n",
       "      <td>0.064495</td>\n",
       "    </tr>\n",
       "    <tr>\n",
       "      <th>1</th>\n",
       "      <td>Simple_BiLSTMs</td>\n",
       "      <td>0.682292</td>\n",
       "      <td>0.911528</td>\n",
       "      <td>590.280816</td>\n",
       "      <td>1.512472</td>\n",
       "    </tr>\n",
       "    <tr>\n",
       "      <th>2</th>\n",
       "      <td>LSTM-CRF</td>\n",
       "      <td>0.699029</td>\n",
       "      <td>0.935657</td>\n",
       "      <td>1008.106285</td>\n",
       "      <td>2.776443</td>\n",
       "    </tr>\n",
       "    <tr>\n",
       "      <th>3</th>\n",
       "      <td>Char_Embedding</td>\n",
       "      <td>0.810021</td>\n",
       "      <td>0.924933</td>\n",
       "      <td>1000.873730</td>\n",
       "      <td>2.313342</td>\n",
       "    </tr>\n",
       "  </tbody>\n",
       "</table>\n",
       "</div>"
      ],
      "text/plain": [
       "            Model        f1       acc   train_time  test_time\n",
       "0             CRF  0.907801  0.962466    35.016066   0.064495\n",
       "1  Simple_BiLSTMs  0.682292  0.911528   590.280816   1.512472\n",
       "2        LSTM-CRF  0.699029  0.935657  1008.106285   2.776443\n",
       "3  Char_Embedding  0.810021  0.924933  1000.873730   2.313342"
      ]
     },
     "execution_count": 40,
     "metadata": {
      "tags": []
     },
     "output_type": "execute_result"
    }
   ],
   "source": [
    "results"
   ]
  },
  {
   "cell_type": "markdown",
   "metadata": {
    "colab_type": "text",
    "id": "6J2rI7THKH2V"
   },
   "source": [
    "## d. Residual LSTMs And ELMO"
   ]
  },
  {
   "cell_type": "code",
   "execution_count": 0,
   "metadata": {
    "colab": {},
    "colab_type": "code",
    "id": "tWCwZJnBBYku"
   },
   "outputs": [],
   "source": [
    "import os\n",
    "import numpy as np\n",
    "import pandas as pd\n",
    "import re\n",
    "import matplotlib.pyplot as plt\n",
    "from itertools import chain\n",
    "import gc\n",
    "from time import time\n",
    "\n",
    "import nltk\n",
    "import sklearn\n",
    "import scipy.stats\n",
    "from sklearn.metrics import make_scorer\n",
    "# from sklearn.cross_validation import cross_val_score\n",
    "# from sklearn.grid_search import RandomizedSearchCV\n",
    "from sklearn.model_selection import cross_val_score\n",
    "from sklearn.model_selection import RandomizedSearchCV\n",
    "\n",
    "import sklearn_crfsuite\n",
    "from sklearn_crfsuite import scorers\n",
    "from sklearn_crfsuite import metrics\n",
    "\n",
    "from keras.preprocessing.sequence import pad_sequences\n",
    "from keras.models import Model, Input\n",
    "from keras.layers import LSTM, Embedding, Dense, TimeDistributed, Dropout, Conv1D\n",
    "from keras.layers import Bidirectional, concatenate, SpatialDropout1D, GlobalMaxPooling1D\n",
    "from keras.utils import to_categorical\n",
    "from keras_contrib.layers import CRF\n",
    "from keras import backend as K\n",
    "import tensorflow as tf\n",
    "\n",
    "from seqeval.metrics import precision_score, recall_score, f1_score, classification_report, accuracy_score\n"
   ]
  },
  {
   "cell_type": "code",
   "execution_count": 0,
   "metadata": {
    "colab": {},
    "colab_type": "code",
    "id": "8aFyEsnxK8qq"
   },
   "outputs": [],
   "source": [
    "os.chdir('/gdrive/My Drive/estsoft')\n",
    "\n",
    "#train_CoNLL03_sample = open('./data/train.txt')\n",
    "train_CoNLL03_sample = open('./data/train_full.txt')\n",
    "train = [line for line in train_CoNLL03_sample]\n",
    "\n",
    "dev_CoNLL03_sample = open('./data/dev.txt')\n",
    "dev = [line for line in dev_CoNLL03_sample]\n",
    "\n",
    "def change_form(f):\n",
    "    form = []\n",
    "    temp = []\n",
    "    for line in f:\n",
    "        if len(line)==0 or line[0]==\"\\n\":\n",
    "            if len(temp) > 0:\n",
    "                form.append(temp)\n",
    "                temp = []\n",
    "            continue\n",
    "        feat = line.split(' ')\n",
    "        feat[-1] = re.sub(r'\\n', '', feat[-1])\n",
    "        temp.append((feat[0],feat[1],feat[3]))\n",
    "    return form\n",
    "\n",
    "new_train = change_form(train)\n",
    "new_dev = change_form(dev)"
   ]
  },
  {
   "cell_type": "code",
   "execution_count": 0,
   "metadata": {
    "colab": {
     "base_uri": "https://localhost:8080/",
     "height": 71
    },
    "colab_type": "code",
    "id": "_4C7lrplLFFA",
    "outputId": "c2dd3bf4-a19c-4b19-d053-dec6e065fb11"
   },
   "outputs": [
    {
     "name": "stdout",
     "output_type": "stream",
     "text": [
      "14041\n",
      "14036\n",
      "60\n"
     ]
    }
   ],
   "source": [
    "print(len(new_train))\n",
    "MAX_SEN_LEN = 60\n",
    "new_train = [s for s in new_train if (len(s) <= MAX_SEN_LEN)]\n",
    "print(len(new_train))\n",
    "print(max(len(sen) for sen in new_train)) "
   ]
  },
  {
   "cell_type": "code",
   "execution_count": 0,
   "metadata": {
    "colab": {
     "base_uri": "https://localhost:8080/",
     "height": 71
    },
    "colab_type": "code",
    "id": "M2FccwWfLKMZ",
    "outputId": "32aa99b9-733e-42c7-a85d-f81886ccabac"
   },
   "outputs": [
    {
     "name": "stdout",
     "output_type": "stream",
     "text": [
      "46\n",
      "60\n",
      "23574\n"
     ]
    }
   ],
   "source": [
    "max_len_dev = -1\n",
    "for sent in new_dev:\n",
    "    if len(sent) > max_len_dev:\n",
    "        max_len_dev = len(sent)\n",
    "print(max_len_dev)\n",
    "\n",
    "words = set()\n",
    "tags = set()\n",
    "max_len_sent = -1\n",
    "for sent in new_train:\n",
    "    for w in sent:\n",
    "        words.add(w[0])\n",
    "        tags.add(w[2])\n",
    "    if len(sent) > max_len_sent:\n",
    "        max_len_sent = len(sent)\n",
    "words = list(words)\n",
    "tags = list(tags)\n",
    "print(max_len_sent)\n",
    "n_words = len(words)\n",
    "n_tags = len(tags)\n",
    "print(n_words)\n",
    "\n",
    "max_len = 60\n",
    "word2idx = {w: i for i, w in enumerate(words)}\n",
    "tag2idx = {t: i for i, t in enumerate(tags)}"
   ]
  },
  {
   "cell_type": "code",
   "execution_count": 0,
   "metadata": {
    "colab": {},
    "colab_type": "code",
    "id": "OPzpdOxxLJ86"
   },
   "outputs": [],
   "source": [
    "X_tr = [[w[0] for w in s] for s in new_train]\n",
    "X_te = [[w[0] for w in s] for s in new_dev]\n",
    "max_len = 60\n",
    "tag2idx = {t: i for i, t in enumerate(tags)}\n",
    "def pad_4ELMO(X):\n",
    "    new_X = []\n",
    "    for seq in X:\n",
    "        new_seq = []\n",
    "        for i in range(max_len):\n",
    "            try:\n",
    "                new_seq.append(seq[i])\n",
    "            except:\n",
    "                new_seq.append(\"__PAD__\")\n",
    "        new_X.append(new_seq)\n",
    "    return new_X\n",
    "    \n",
    "X_train = pad_4ELMO(X_tr)\n",
    "X_test = pad_4ELMO(X_te)"
   ]
  },
  {
   "cell_type": "code",
   "execution_count": 0,
   "metadata": {
    "colab": {},
    "colab_type": "code",
    "id": "R6yUdUVGKl0E"
   },
   "outputs": [],
   "source": [
    "# import tensorflow_hub as hub\n",
    "# from keras.layers import LSTM, Embedding, Dense, TimeDistributed, Dropout, Bidirectional, Lambda\n",
    "# from keras.layers.merge import add\n",
    "\n",
    "import tensorflow_hub as hub\n",
    "from keras.layers import Lambda\n",
    "from keras.layers.merge import add\n"
   ]
  },
  {
   "cell_type": "code",
   "execution_count": 0,
   "metadata": {
    "colab": {},
    "colab_type": "code",
    "id": "CkiRStqFKlmV"
   },
   "outputs": [],
   "source": [
    "sess = tf.Session()\n",
    "K.set_session(sess)\n",
    "elmo_model = hub.Module(\"https://tfhub.dev/google/elmo/2\", trainable=True)\n",
    "sess.run(tf.global_variables_initializer())\n",
    "sess.run(tf.tables_initializer())\n",
    "\n",
    "def ElmoEmbedding(x):\n",
    "    return elmo_model(inputs={\n",
    "                            \"tokens\": tf.squeeze(tf.cast(x, tf.string)),\n",
    "                            \"sequence_len\": tf.constant(batch_size*[max_len])\n",
    "                      },\n",
    "                      signature=\"tokens\",\n",
    "                      as_dict=True)[\"elmo\"]\n"
   ]
  },
  {
   "cell_type": "code",
   "execution_count": 0,
   "metadata": {
    "colab": {},
    "colab_type": "code",
    "id": "wRGBzizELzlj"
   },
   "outputs": [],
   "source": [
    "y_tr = [[tag2idx[w[2]] for w in s] for s in new_train]\n",
    "y_te = [[tag2idx[w[2]] for w in s] for s in new_dev]\n",
    "y_train = pad_sequences(maxlen=max_len, sequences=y_tr, padding=\"post\", value=tag2idx[\"O\"])\n",
    "y_test = pad_sequences(maxlen=max_len, sequences=y_te, padding=\"post\", value=tag2idx[\"O\"])"
   ]
  },
  {
   "cell_type": "code",
   "execution_count": 0,
   "metadata": {
    "colab": {
     "base_uri": "https://localhost:8080/",
     "height": 449
    },
    "colab_type": "code",
    "id": "b1CbsKN_L3EI",
    "outputId": "639b56af-dbe3-48b1-8fd7-58b454010288"
   },
   "outputs": [
    {
     "name": "stdout",
     "output_type": "stream",
     "text": [
      "WARNING:tensorflow:From /usr/local/lib/python3.6/dist-packages/keras/backend/tensorflow_backend.py:66: The name tf.get_default_graph is deprecated. Please use tf.compat.v1.get_default_graph instead.\n",
      "\n"
     ]
    },
    {
     "name": "stderr",
     "output_type": "stream",
     "text": [
      "WARNING:tensorflow:From /usr/local/lib/python3.6/dist-packages/keras/backend/tensorflow_backend.py:66: The name tf.get_default_graph is deprecated. Please use tf.compat.v1.get_default_graph instead.\n",
      "\n"
     ]
    },
    {
     "name": "stdout",
     "output_type": "stream",
     "text": [
      "WARNING:tensorflow:From /usr/local/lib/python3.6/dist-packages/keras/backend/tensorflow_backend.py:541: The name tf.placeholder is deprecated. Please use tf.compat.v1.placeholder instead.\n",
      "\n"
     ]
    },
    {
     "name": "stderr",
     "output_type": "stream",
     "text": [
      "WARNING:tensorflow:From /usr/local/lib/python3.6/dist-packages/keras/backend/tensorflow_backend.py:541: The name tf.placeholder is deprecated. Please use tf.compat.v1.placeholder instead.\n",
      "\n"
     ]
    },
    {
     "name": "stdout",
     "output_type": "stream",
     "text": [
      "INFO:tensorflow:Saver not created because there are no variables in the graph to restore\n"
     ]
    },
    {
     "name": "stderr",
     "output_type": "stream",
     "text": [
      "INFO:tensorflow:Saver not created because there are no variables in the graph to restore\n"
     ]
    },
    {
     "name": "stdout",
     "output_type": "stream",
     "text": [
      "WARNING:tensorflow:From /usr/local/lib/python3.6/dist-packages/keras/backend/tensorflow_backend.py:4432: The name tf.random_uniform is deprecated. Please use tf.random.uniform instead.\n",
      "\n"
     ]
    },
    {
     "name": "stderr",
     "output_type": "stream",
     "text": [
      "WARNING:tensorflow:From /usr/local/lib/python3.6/dist-packages/keras/backend/tensorflow_backend.py:4432: The name tf.random_uniform is deprecated. Please use tf.random.uniform instead.\n",
      "\n"
     ]
    },
    {
     "name": "stdout",
     "output_type": "stream",
     "text": [
      "WARNING:tensorflow:From /usr/local/lib/python3.6/dist-packages/keras/backend/tensorflow_backend.py:148: The name tf.placeholder_with_default is deprecated. Please use tf.compat.v1.placeholder_with_default instead.\n",
      "\n"
     ]
    },
    {
     "name": "stderr",
     "output_type": "stream",
     "text": [
      "WARNING:tensorflow:From /usr/local/lib/python3.6/dist-packages/keras/backend/tensorflow_backend.py:148: The name tf.placeholder_with_default is deprecated. Please use tf.compat.v1.placeholder_with_default instead.\n",
      "\n"
     ]
    },
    {
     "name": "stdout",
     "output_type": "stream",
     "text": [
      "WARNING:tensorflow:From /usr/local/lib/python3.6/dist-packages/keras/backend/tensorflow_backend.py:3733: calling dropout (from tensorflow.python.ops.nn_ops) with keep_prob is deprecated and will be removed in a future version.\n",
      "Instructions for updating:\n",
      "Please use `rate` instead of `keep_prob`. Rate should be set to `rate = 1 - keep_prob`.\n"
     ]
    },
    {
     "name": "stderr",
     "output_type": "stream",
     "text": [
      "WARNING:tensorflow:From /usr/local/lib/python3.6/dist-packages/keras/backend/tensorflow_backend.py:3733: calling dropout (from tensorflow.python.ops.nn_ops) with keep_prob is deprecated and will be removed in a future version.\n",
      "Instructions for updating:\n",
      "Please use `rate` instead of `keep_prob`. Rate should be set to `rate = 1 - keep_prob`.\n"
     ]
    }
   ],
   "source": [
    "\n",
    "#embedding = Lambda(ElmoEmbedding, output_shape=(None, max_len, 1024))(input_text)\n",
    "\n",
    "# batch_size = 32\n",
    "batch_size = 35\n",
    "input_text = Input(shape=(max_len,), dtype=tf.string)\n",
    "embedding = Lambda(ElmoEmbedding, output_shape=(max_len, 1024))(input_text)\n",
    "x = Bidirectional(LSTM(units=512, return_sequences=True,\n",
    "                       recurrent_dropout=0.2, dropout=0.2))(embedding)\n",
    "x_rnn = Bidirectional(LSTM(units=512, return_sequences=True,\n",
    "                           recurrent_dropout=0.2, dropout=0.2))(x)\n",
    "x = add([x, x_rnn])  # residual connection to the first biLSTM\n",
    "out = TimeDistributed(Dense(n_tags, activation=\"softmax\"))(x)\n"
   ]
  },
  {
   "cell_type": "code",
   "execution_count": 0,
   "metadata": {
    "colab": {
     "base_uri": "https://localhost:8080/",
     "height": 161
    },
    "colab_type": "code",
    "id": "otepQwRULzQN",
    "outputId": "c8a10369-fa21-4818-921f-b6da7c5a1205"
   },
   "outputs": [
    {
     "name": "stdout",
     "output_type": "stream",
     "text": [
      "WARNING:tensorflow:From /usr/local/lib/python3.6/dist-packages/keras/optimizers.py:793: The name tf.train.Optimizer is deprecated. Please use tf.compat.v1.train.Optimizer instead.\n",
      "\n"
     ]
    },
    {
     "name": "stderr",
     "output_type": "stream",
     "text": [
      "WARNING:tensorflow:From /usr/local/lib/python3.6/dist-packages/keras/optimizers.py:793: The name tf.train.Optimizer is deprecated. Please use tf.compat.v1.train.Optimizer instead.\n",
      "\n"
     ]
    },
    {
     "name": "stdout",
     "output_type": "stream",
     "text": [
      "WARNING:tensorflow:From /usr/local/lib/python3.6/dist-packages/keras/backend/tensorflow_backend.py:3622: The name tf.log is deprecated. Please use tf.math.log instead.\n",
      "\n"
     ]
    },
    {
     "name": "stderr",
     "output_type": "stream",
     "text": [
      "WARNING:tensorflow:From /usr/local/lib/python3.6/dist-packages/keras/backend/tensorflow_backend.py:3622: The name tf.log is deprecated. Please use tf.math.log instead.\n",
      "\n"
     ]
    }
   ],
   "source": [
    "model = Model(input_text, out)\n",
    "model.compile(optimizer=\"adam\", loss=\"sparse_categorical_crossentropy\", metrics=[\"accuracy\"])"
   ]
  },
  {
   "cell_type": "code",
   "execution_count": 0,
   "metadata": {
    "colab": {
     "base_uri": "https://localhost:8080/",
     "height": 395
    },
    "colab_type": "code",
    "id": "QCxmkDapU2UA",
    "outputId": "7912c399-4064-42bb-aa39-d344c2502539"
   },
   "outputs": [
    {
     "name": "stdout",
     "output_type": "stream",
     "text": [
      "Model: \"model_1\"\n",
      "__________________________________________________________________________________________________\n",
      "Layer (type)                    Output Shape         Param #     Connected to                     \n",
      "==================================================================================================\n",
      "input_1 (InputLayer)            (None, 60)           0                                            \n",
      "__________________________________________________________________________________________________\n",
      "lambda_1 (Lambda)               (None, 60, 1024)     0           input_1[0][0]                    \n",
      "__________________________________________________________________________________________________\n",
      "bidirectional_1 (Bidirectional) (None, 60, 1024)     6295552     lambda_1[0][0]                   \n",
      "__________________________________________________________________________________________________\n",
      "bidirectional_2 (Bidirectional) (None, 60, 1024)     6295552     bidirectional_1[0][0]            \n",
      "__________________________________________________________________________________________________\n",
      "add_1 (Add)                     (None, 60, 1024)     0           bidirectional_1[0][0]            \n",
      "                                                                 bidirectional_2[0][0]            \n",
      "__________________________________________________________________________________________________\n",
      "time_distributed_1 (TimeDistrib (None, 60, 9)        9225        add_1[0][0]                      \n",
      "==================================================================================================\n",
      "Total params: 12,600,329\n",
      "Trainable params: 12,600,329\n",
      "Non-trainable params: 0\n",
      "__________________________________________________________________________________________________\n"
     ]
    }
   ],
   "source": [
    "model.summary()"
   ]
  },
  {
   "cell_type": "code",
   "execution_count": 0,
   "metadata": {
    "colab": {
     "base_uri": "https://localhost:8080/",
     "height": 35
    },
    "colab_type": "code",
    "id": "KGIRRVAWhWbR",
    "outputId": "c6412ade-928b-4244-aec1-67f2bbe41ab0"
   },
   "outputs": [
    {
     "data": {
      "text/plain": [
       "14000"
      ]
     },
     "execution_count": 13,
     "metadata": {
      "tags": []
     },
     "output_type": "execute_result"
    }
   ],
   "source": [
    "len(X_train)"
   ]
  },
  {
   "cell_type": "code",
   "execution_count": 0,
   "metadata": {
    "colab": {},
    "colab_type": "code",
    "id": "Fi46rgLohN00"
   },
   "outputs": [],
   "source": [
    "X_train = X_train[:-36]\n",
    "y_train = y_train[:-36]"
   ]
  },
  {
   "cell_type": "code",
   "execution_count": 0,
   "metadata": {
    "colab": {},
    "colab_type": "code",
    "id": "q6lJkNbML6sg"
   },
   "outputs": [],
   "source": [
    "from sklearn.model_selection import train_test_split\n",
    "# X_tr, X_val = X_tr[:1213*batch_size], X_tr[-135*batch_size:]\n",
    "# y_tr, y_val = y_tr[:1213*batch_size], y_tr[-135*batch_size:]\n",
    "X_train, X_val, y_train, y_val = train_test_split(X_train, y_train, test_size=0.1, random_state=2019)\n",
    "y_train = y_train.reshape(y_train.shape[0], y_train.shape[1], 1)\n",
    "y_val = y_val.reshape(y_val.shape[0], y_val.shape[1], 1)\n"
   ]
  },
  {
   "cell_type": "code",
   "execution_count": 0,
   "metadata": {
    "colab": {
     "base_uri": "https://localhost:8080/",
     "height": 361
    },
    "colab_type": "code",
    "id": "9ey0SfXHL8OW",
    "outputId": "953968fc-34f4-4580-ffaa-5955b75e137f"
   },
   "outputs": [
    {
     "name": "stdout",
     "output_type": "stream",
     "text": [
      "WARNING:tensorflow:From /usr/local/lib/python3.6/dist-packages/tensorflow/python/ops/math_grad.py:1250: add_dispatch_support.<locals>.wrapper (from tensorflow.python.ops.array_ops) is deprecated and will be removed in a future version.\n",
      "Instructions for updating:\n",
      "Use tf.where in 2.0, which has the same broadcast rule as np.where\n"
     ]
    },
    {
     "name": "stderr",
     "output_type": "stream",
     "text": [
      "WARNING:tensorflow:From /usr/local/lib/python3.6/dist-packages/tensorflow/python/ops/math_grad.py:1250: add_dispatch_support.<locals>.wrapper (from tensorflow.python.ops.array_ops) is deprecated and will be removed in a future version.\n",
      "Instructions for updating:\n",
      "Use tf.where in 2.0, which has the same broadcast rule as np.where\n"
     ]
    },
    {
     "name": "stdout",
     "output_type": "stream",
     "text": [
      "Train on 12600 samples, validate on 1400 samples\n",
      "Epoch 1/5\n",
      "12600/12600 [==============================] - 517s 41ms/step - loss: 0.0431 - acc: 0.9882 - val_loss: 0.0164 - val_acc: 0.9952\n",
      "Epoch 2/5\n",
      "12600/12600 [==============================] - 511s 41ms/step - loss: 0.0111 - acc: 0.9967 - val_loss: 0.0127 - val_acc: 0.9963\n",
      "Epoch 3/5\n",
      "12600/12600 [==============================] - 512s 41ms/step - loss: 0.0073 - acc: 0.9978 - val_loss: 0.0137 - val_acc: 0.9962\n",
      "Epoch 4/5\n",
      "12600/12600 [==============================] - 512s 41ms/step - loss: 0.0047 - acc: 0.9986 - val_loss: 0.0120 - val_acc: 0.9969\n",
      "Epoch 5/5\n",
      "12600/12600 [==============================] - 512s 41ms/step - loss: 0.0032 - acc: 0.9990 - val_loss: 0.0116 - val_acc: 0.9973\n",
      "train time: 2566.434s\n"
     ]
    }
   ],
   "source": [
    "t0 = time()\n",
    "history = model.fit(np.array(X_train), y_train, validation_data=(np.array(X_val), y_val),\n",
    "                    batch_size=batch_size, epochs=5, verbose=1)\n",
    "train_time = time() - t0\n",
    "print(\"train time: %0.3fs\" % train_time)"
   ]
  },
  {
   "cell_type": "code",
   "execution_count": 0,
   "metadata": {
    "colab": {
     "base_uri": "https://localhost:8080/",
     "height": 716
    },
    "colab_type": "code",
    "id": "j_tt7BibL6Z7",
    "outputId": "1860c056-3279-41a9-a521-e5955485b658"
   },
   "outputs": [
    {
     "data": {
      "image/png": "[encoded data removed]",
      "text/plain": [
       "<Figure size 864x864 with 1 Axes>"
      ]
     },
     "metadata": {
      "tags": []
     },
     "output_type": "display_data"
    }
   ],
   "source": [
    "hist = pd.DataFrame(history.history)\n",
    "plt.figure(figsize=(6,6))\n",
    "plt.plot(hist[\"acc\"])\n",
    "plt.plot(hist[\"val_acc\"])\n",
    "plt.title(\"Learning curves\")\n",
    "plt.legend()\n",
    "plt.show()"
   ]
  },
  {
   "cell_type": "code",
   "execution_count": 0,
   "metadata": {
    "colab": {},
    "colab_type": "code",
    "id": "WIm-Th_trkFV"
   },
   "outputs": [],
   "source": [
    "from copy import deepcopy\n",
    "temp_test = deepcopy(X_test)"
   ]
  },
  {
   "cell_type": "code",
   "execution_count": 0,
   "metadata": {
    "colab": {
     "base_uri": "https://localhost:8080/",
     "height": 35
    },
    "colab_type": "code",
    "id": "Ca5EwZNbrVQG",
    "outputId": "9be4f181-b26f-41bb-aefb-1bd6964f7b65"
   },
   "outputs": [
    {
     "data": {
      "text/plain": [
       "373"
      ]
     },
     "execution_count": 42,
     "metadata": {
      "tags": []
     },
     "output_type": "execute_result"
    }
   ],
   "source": [
    "len(X_test)"
   ]
  },
  {
   "cell_type": "code",
   "execution_count": 0,
   "metadata": {
    "colab": {},
    "colab_type": "code",
    "id": "3LEWV6lCrr84"
   },
   "outputs": [],
   "source": [
    "temp_test_a = temp_test + temp_test[:12] "
   ]
  },
  {
   "cell_type": "code",
   "execution_count": 0,
   "metadata": {
    "colab": {
     "base_uri": "https://localhost:8080/",
     "height": 35
    },
    "colab_type": "code",
    "id": "fXnsFrkgr_dK",
    "outputId": "7fe69f64-86b1-4479-e59b-ed7723c6639a"
   },
   "outputs": [
    {
     "data": {
      "text/plain": [
       "385"
      ]
     },
     "execution_count": 45,
     "metadata": {
      "tags": []
     },
     "output_type": "execute_result"
    }
   ],
   "source": [
    "len(temp_test_a)"
   ]
  },
  {
   "cell_type": "code",
   "execution_count": 0,
   "metadata": {
    "colab": {
     "base_uri": "https://localhost:8080/",
     "height": 53
    },
    "colab_type": "code",
    "id": "82eBA3VPMGep",
    "outputId": "062ba359-941f-4f93-e696-23087458f86d"
   },
   "outputs": [
    {
     "name": "stdout",
     "output_type": "stream",
     "text": [
      "385/385 [==============================] - 10s 27ms/step\n",
      "test time:  10.346s\n"
     ]
    }
   ],
   "source": [
    "t0 = time()\n",
    "p = model.predict(np.array(temp_test_a), batch_size=batch_size, verbose=1)\n",
    "test_time = time() - t0\n",
    "print(\"test time:  %0.3fs\" % test_time)\n",
    "\n",
    "#p = np.argmax(p, axis=-1)"
   ]
  },
  {
   "cell_type": "code",
   "execution_count": 0,
   "metadata": {
    "colab": {
     "base_uri": "https://localhost:8080/",
     "height": 35
    },
    "colab_type": "code",
    "id": "0FFvBPReuFBO",
    "outputId": "f3d33350-f6af-4994-b76e-6ac83ce8f148"
   },
   "outputs": [
    {
     "name": "stdout",
     "output_type": "stream",
     "text": [
      "373\n"
     ]
    }
   ],
   "source": [
    "pred = p[:-12]\n",
    "print(len(pred))"
   ]
  },
  {
   "cell_type": "code",
   "execution_count": 0,
   "metadata": {
    "colab": {},
    "colab_type": "code",
    "id": "_hhDs2QZtvgR"
   },
   "outputs": [],
   "source": [
    "idx2tag = {i: w for w, i in tag2idx.items()}\n",
    "\n",
    "def pred2label(pred):\n",
    "    out = []\n",
    "    for pred_i in pred:\n",
    "        out_i = []\n",
    "        for p in pred_i:\n",
    "            p_i = np.argmax(p)\n",
    "            out_i.append(idx2tag[p_i].replace(\"PAD\", \"O\"))\n",
    "        out.append(out_i)\n",
    "    return out\n",
    "    \n",
    "pred_labels = pred2label(pred)\n",
    "#test_labels = pred2label(y_test)\n"
   ]
  },
  {
   "cell_type": "code",
   "execution_count": 0,
   "metadata": {
    "colab": {
     "base_uri": "https://localhost:8080/",
     "height": 179
    },
    "colab_type": "code",
    "id": "ygnuK2lbu28y",
    "outputId": "6b196bb2-8b02-4f91-ce30-519bcb91fc29"
   },
   "outputs": [
    {
     "data": {
      "text/plain": [
       "{0: 'I-LOC',\n",
       " 1: 'B-LOC',\n",
       " 2: 'I-PER',\n",
       " 3: 'B-ORG',\n",
       " 4: 'I-MISC',\n",
       " 5: 'B-PER',\n",
       " 6: 'I-ORG',\n",
       " 7: 'B-MISC',\n",
       " 8: 'O'}"
      ]
     },
     "execution_count": 60,
     "metadata": {
      "tags": []
     },
     "output_type": "execute_result"
    }
   ],
   "source": [
    "idx2tag"
   ]
  },
  {
   "cell_type": "code",
   "execution_count": 0,
   "metadata": {
    "colab": {
     "base_uri": "https://localhost:8080/",
     "height": 71
    },
    "colab_type": "code",
    "id": "_DdH2-q9ux8j",
    "outputId": "54aa807c-dc97-4a21-e9a4-f2f16aa2620d"
   },
   "outputs": [
    {
     "data": {
      "text/plain": [
       "array([8, 8, 3, 8, 8, 8, 8, 8, 8, 8, 8, 8, 8, 8, 8, 8, 8, 8, 8, 8, 8, 8,\n",
       "       8, 8, 8, 8, 8, 8, 8, 8, 8, 8, 8, 8, 8, 8, 8, 8, 8, 8, 8, 8, 8, 8,\n",
       "       8, 8, 8, 8, 8, 8, 8, 8, 8, 8, 8, 8, 8, 8, 8, 8], dtype=int32)"
      ]
     },
     "execution_count": 59,
     "metadata": {
      "tags": []
     },
     "output_type": "execute_result"
    }
   ],
   "source": [
    "y_test[0]"
   ]
  },
  {
   "cell_type": "code",
   "execution_count": 0,
   "metadata": {
    "colab": {},
    "colab_type": "code",
    "id": "TzNBKbd3uYbx"
   },
   "outputs": [],
   "source": [
    "# idx2tag could change\n",
    "test_labels = [[idx2tag[w] for w in s] for s in y_test ]"
   ]
  },
  {
   "cell_type": "code",
   "execution_count": 0,
   "metadata": {
    "colab": {
     "base_uri": "https://localhost:8080/",
     "height": 215
    },
    "colab_type": "code",
    "id": "C0CRbKfdMYfX",
    "outputId": "f8f6fcbf-7ab6-45ed-e33c-096703a4c95f"
   },
   "outputs": [
    {
     "name": "stdout",
     "output_type": "stream",
     "text": [
      "F1-score: 95.2%\n",
      "           precision    recall  f1-score   support\n",
      "\n",
      "     MISC       0.89      0.93      0.91        67\n",
      "      PER       0.98      0.97      0.98       221\n",
      "      ORG       0.95      0.94      0.94       192\n",
      "      LOC       0.94      0.96      0.95       161\n",
      "\n",
      "micro avg       0.95      0.95      0.95       641\n",
      "macro avg       0.95      0.95      0.95       641\n",
      "\n"
     ]
    }
   ],
   "source": [
    "print(\"F1-score: {:.1%}\".format(f1_score(test_labels, pred_labels)))\n",
    "print(classification_report(test_labels, pred_labels))"
   ]
  },
  {
   "cell_type": "code",
   "execution_count": 0,
   "metadata": {
    "colab": {
     "base_uri": "https://localhost:8080/",
     "height": 53
    },
    "colab_type": "code",
    "id": "tb9KKzGGvRVP",
    "outputId": "c03a1d5f-6785-4f51-f170-5e39217e1fc3"
   },
   "outputs": [
    {
     "name": "stdout",
     "output_type": "stream",
     "text": [
      "0.9750566893424037\n",
      "0.9839142091152815\n"
     ]
    }
   ],
   "source": [
    "y_test_per = [['PER' if 'PER' in w else 'O' for w in s] for s in test_labels]\n",
    "y_test_per_acc = [True if 'PER' in s else False for s in y_test_per]\n",
    "\n",
    "y_pred_per = [['PER' if 'PER' in w else 'O' for w in s] for s in pred_labels]\n",
    "y_pred_per_acc = [True if 'PER' in s else False for s in y_pred_per]\n",
    "\n",
    "f1 = f1_score(y_test_per, y_pred_per)\n",
    "acc = accuracy_score(y_test_per_acc, y_pred_per_acc)\n",
    "print(f1)\n",
    "print(acc)\n"
   ]
  },
  {
   "cell_type": "code",
   "execution_count": 0,
   "metadata": {
    "colab": {
     "base_uri": "https://localhost:8080/",
     "height": 204
    },
    "colab_type": "code",
    "id": "zuKOLiarvZc7",
    "outputId": "468a3bfb-61f8-45fa-de85-660a6787d12e"
   },
   "outputs": [
    {
     "data": {
      "text/html": [
       "<div>\n",
       "<style scoped>\n",
       "    .dataframe tbody tr th:only-of-type {\n",
       "        vertical-align: middle;\n",
       "    }\n",
       "\n",
       "    .dataframe tbody tr th {\n",
       "        vertical-align: top;\n",
       "    }\n",
       "\n",
       "    .dataframe thead th {\n",
       "        text-align: right;\n",
       "    }\n",
       "</style>\n",
       "<table border=\"1\" class=\"dataframe\">\n",
       "  <thead>\n",
       "    <tr style=\"text-align: right;\">\n",
       "      <th></th>\n",
       "      <th>Model</th>\n",
       "      <th>f1</th>\n",
       "      <th>acc</th>\n",
       "      <th>train_time</th>\n",
       "      <th>test_time</th>\n",
       "    </tr>\n",
       "  </thead>\n",
       "  <tbody>\n",
       "    <tr>\n",
       "      <th>0</th>\n",
       "      <td>CRF</td>\n",
       "      <td>0.907801</td>\n",
       "      <td>0.962466</td>\n",
       "      <td>35.016066</td>\n",
       "      <td>0.064495</td>\n",
       "    </tr>\n",
       "    <tr>\n",
       "      <th>1</th>\n",
       "      <td>Simple_BiLSTMs</td>\n",
       "      <td>0.682292</td>\n",
       "      <td>0.911528</td>\n",
       "      <td>590.280816</td>\n",
       "      <td>1.512472</td>\n",
       "    </tr>\n",
       "    <tr>\n",
       "      <th>2</th>\n",
       "      <td>LSTM-CRF</td>\n",
       "      <td>0.699029</td>\n",
       "      <td>0.935657</td>\n",
       "      <td>1008.106285</td>\n",
       "      <td>2.776443</td>\n",
       "    </tr>\n",
       "    <tr>\n",
       "      <th>3</th>\n",
       "      <td>Char_Embedding</td>\n",
       "      <td>0.810021</td>\n",
       "      <td>0.924933</td>\n",
       "      <td>1000.873730</td>\n",
       "      <td>2.313342</td>\n",
       "    </tr>\n",
       "    <tr>\n",
       "      <th>4</th>\n",
       "      <td>ELMO_residual</td>\n",
       "      <td>0.975057</td>\n",
       "      <td>0.983914</td>\n",
       "      <td>2566.433501</td>\n",
       "      <td>10.346242</td>\n",
       "    </tr>\n",
       "  </tbody>\n",
       "</table>\n",
       "</div>"
      ],
      "text/plain": [
       "            Model        f1       acc   train_time  test_time\n",
       "0             CRF  0.907801  0.962466    35.016066   0.064495\n",
       "1  Simple_BiLSTMs  0.682292  0.911528   590.280816   1.512472\n",
       "2        LSTM-CRF  0.699029  0.935657  1008.106285   2.776443\n",
       "3  Char_Embedding  0.810021  0.924933  1000.873730   2.313342\n",
       "4   ELMO_residual  0.975057  0.983914  2566.433501  10.346242"
      ]
     },
     "execution_count": 76,
     "metadata": {
      "tags": []
     },
     "output_type": "execute_result"
    }
   ],
   "source": [
    "results = pd.read_csv('./results.csv')\n",
    "results = results.append({'Model':'ELMO_residual', \n",
    "                          'f1':f1 , \n",
    "                          'acc': acc , \n",
    "                          'train_time': train_time , \n",
    "                          'test_time': test_time},\n",
    "                          ignore_index=True)\n",
    "#results.to_csv('./results.csv', index=False)\n",
    "results"
   ]
  },
  {
   "cell_type": "code",
   "execution_count": 0,
   "metadata": {
    "colab": {},
    "colab_type": "code",
    "id": "EoAmBOCmwGFk"
   },
   "outputs": [],
   "source": [
    "results.to_csv('./results.csv', index=False)"
   ]
  },
  {
   "cell_type": "markdown",
   "metadata": {
    "colab_type": "text",
    "id": "n_9azTo7KmPj"
   },
   "source": [
    "## e. BERT"
   ]
  },
  {
   "cell_type": "code",
   "execution_count": 0,
   "metadata": {
    "colab": {
     "base_uri": "https://localhost:8080/",
     "height": 415
    },
    "colab_type": "code",
    "id": "HH5I3UpxKpcq",
    "outputId": "652f44f1-9cb6-43b8-fd49-e2169ada64e6"
   },
   "outputs": [
    {
     "name": "stdout",
     "output_type": "stream",
     "text": [
      "Requirement already satisfied: pytorch_transformers in /usr/local/lib/python3.6/dist-packages (1.2.0)\n",
      "Requirement already satisfied: tqdm in /usr/local/lib/python3.6/dist-packages (from pytorch_transformers) (4.28.1)\n",
      "Requirement already satisfied: numpy in /usr/local/lib/python3.6/dist-packages (from pytorch_transformers) (1.16.5)\n",
      "Requirement already satisfied: sentencepiece in /usr/local/lib/python3.6/dist-packages (from pytorch_transformers) (0.1.83)\n",
      "Requirement already satisfied: sacremoses in /usr/local/lib/python3.6/dist-packages (from pytorch_transformers) (0.0.35)\n",
      "Requirement already satisfied: regex in /usr/local/lib/python3.6/dist-packages (from pytorch_transformers) (2019.8.19)\n",
      "Requirement already satisfied: boto3 in /usr/local/lib/python3.6/dist-packages (from pytorch_transformers) (1.9.236)\n",
      "Requirement already satisfied: requests in /usr/local/lib/python3.6/dist-packages (from pytorch_transformers) (2.21.0)\n",
      "Requirement already satisfied: torch>=1.0.0 in /usr/local/lib/python3.6/dist-packages (from pytorch_transformers) (1.2.0)\n",
      "Requirement already satisfied: click in /usr/local/lib/python3.6/dist-packages (from sacremoses->pytorch_transformers) (7.0)\n",
      "Requirement already satisfied: six in /usr/local/lib/python3.6/dist-packages (from sacremoses->pytorch_transformers) (1.12.0)\n",
      "Requirement already satisfied: joblib in /usr/local/lib/python3.6/dist-packages (from sacremoses->pytorch_transformers) (0.13.2)\n",
      "Requirement already satisfied: botocore<1.13.0,>=1.12.236 in /usr/local/lib/python3.6/dist-packages (from boto3->pytorch_transformers) (1.12.236)\n",
      "Requirement already satisfied: jmespath<1.0.0,>=0.7.1 in /usr/local/lib/python3.6/dist-packages (from boto3->pytorch_transformers) (0.9.4)\n",
      "Requirement already satisfied: s3transfer<0.3.0,>=0.2.0 in /usr/local/lib/python3.6/dist-packages (from boto3->pytorch_transformers) (0.2.1)\n",
      "Requirement already satisfied: urllib3<1.25,>=1.21.1 in /usr/local/lib/python3.6/dist-packages (from requests->pytorch_transformers) (1.24.3)\n",
      "Requirement already satisfied: idna<2.9,>=2.5 in /usr/local/lib/python3.6/dist-packages (from requests->pytorch_transformers) (2.8)\n",
      "Requirement already satisfied: chardet<3.1.0,>=3.0.2 in /usr/local/lib/python3.6/dist-packages (from requests->pytorch_transformers) (3.0.4)\n",
      "Requirement already satisfied: certifi>=2017.4.17 in /usr/local/lib/python3.6/dist-packages (from requests->pytorch_transformers) (2019.9.11)\n",
      "Requirement already satisfied: docutils<0.16,>=0.10 in /usr/local/lib/python3.6/dist-packages (from botocore<1.13.0,>=1.12.236->boto3->pytorch_transformers) (0.15.2)\n",
      "Requirement already satisfied: python-dateutil<3.0.0,>=2.1; python_version >= \"2.7\" in /usr/local/lib/python3.6/dist-packages (from botocore<1.13.0,>=1.12.236->boto3->pytorch_transformers) (2.5.3)\n"
     ]
    }
   ],
   "source": [
    "!pip install pytorch_transformers "
   ]
  },
  {
   "cell_type": "code",
   "execution_count": 0,
   "metadata": {
    "colab": {
     "base_uri": "https://localhost:8080/",
     "height": 35
    },
    "colab_type": "code",
    "id": "_5TWK_kiKpRb",
    "outputId": "5ff7f77c-5020-4e9a-b865-ed4dc34319d8"
   },
   "outputs": [
    {
     "name": "stderr",
     "output_type": "stream",
     "text": [
      "Using TensorFlow backend.\n"
     ]
    }
   ],
   "source": [
    "import torch\n",
    "import os\n",
    "from tqdm import tqdm,trange\n",
    "import re\n",
    "\n",
    "from torch.optim import Adam\n",
    "from torch.utils.data import TensorDataset, DataLoader, RandomSampler, SequentialSampler\n",
    "from keras.preprocessing.sequence import pad_sequences\n",
    "from sklearn.model_selection import train_test_split\n",
    "from pytorch_transformers import BertTokenizer, BertConfig\n",
    "from pytorch_transformers import BertForTokenClassification, AdamW\n",
    "\n"
   ]
  },
  {
   "cell_type": "code",
   "execution_count": 0,
   "metadata": {
    "colab": {},
    "colab_type": "code",
    "id": "QVVj2zHSM6qn"
   },
   "outputs": [],
   "source": [
    "os.chdir('/gdrive/My Drive/estsoft')\n",
    "\n",
    "#train_CoNLL03_sample = open('./data/train.txt')\n",
    "train_CoNLL03_sample = open('./data/train_full.txt')\n",
    "train = [line for line in train_CoNLL03_sample]\n",
    "\n",
    "dev_CoNLL03_sample = open('./data/dev.txt')\n",
    "dev = [line for line in dev_CoNLL03_sample]\n",
    "\n",
    "def change_form(f):\n",
    "    form = []\n",
    "    temp = []\n",
    "    for line in f:\n",
    "        if len(line)==0 or line[0]==\"\\n\":\n",
    "            if len(temp) > 0:\n",
    "                form.append(temp)\n",
    "                temp = []\n",
    "            continue\n",
    "        feat = line.split(' ')\n",
    "        feat[-1] = re.sub(r'\\n', '', feat[-1])\n",
    "        temp.append((feat[0],feat[1],feat[3]))\n",
    "    return form\n",
    "\n",
    "new_train = change_form(train)\n",
    "new_dev = change_form(dev)\n",
    "\n"
   ]
  },
  {
   "cell_type": "code",
   "execution_count": 0,
   "metadata": {
    "colab": {
     "base_uri": "https://localhost:8080/",
     "height": 71
    },
    "colab_type": "code",
    "id": "B6dLyAnuww2l",
    "outputId": "4502ee11-329a-4b26-d28f-14467176d9a3"
   },
   "outputs": [
    {
     "name": "stdout",
     "output_type": "stream",
     "text": [
      "14041\n",
      "14036\n",
      "60\n"
     ]
    }
   ],
   "source": [
    "print(len(new_train))\n",
    "MAX_SEN_LEN = 60\n",
    "new_train = [s for s in new_train if (len(s) <= MAX_SEN_LEN)]\n",
    "print(len(new_train))\n",
    "print(max(len(sen) for sen in new_train)) "
   ]
  },
  {
   "cell_type": "code",
   "execution_count": 0,
   "metadata": {
    "colab": {
     "base_uri": "https://localhost:8080/",
     "height": 35
    },
    "colab_type": "code",
    "id": "-bPDDt84wv3n",
    "outputId": "b48060f6-b191-403f-e77c-9e48a7108802"
   },
   "outputs": [
    {
     "name": "stdout",
     "output_type": "stream",
     "text": [
      "['EU', 'rejects', 'German', 'call', 'to', 'boycott', 'British', 'lamb', '.']\n"
     ]
    }
   ],
   "source": [
    "\n",
    "tr_sentences = [[s[0] for s in sent] for sent in new_train]\n",
    "dev_sentences = [[s[0] for s in sent] for sent in new_dev]\n",
    "print(tr_sentences[0])\n",
    "\n",
    "tr_poses = [[s[1] for s in sent] for sent in new_train]\n",
    "dev_poses = [[s[1] for s in sent] for sent in new_dev]\n",
    "\n",
    "tr_labels = [[s[2] for s in sent] for sent in new_train]\n",
    "dev_labels = [[s[2] for s in sent] for sent in new_dev]\n"
   ]
  },
  {
   "cell_type": "code",
   "execution_count": 0,
   "metadata": {
    "colab": {
     "base_uri": "https://localhost:8080/",
     "height": 71
    },
    "colab_type": "code",
    "id": "h_1win3mxBIV",
    "outputId": "703a0cbf-9959-45f4-9ed4-6afeba8f2b23"
   },
   "outputs": [
    {
     "name": "stdout",
     "output_type": "stream",
     "text": [
      "46\n",
      "60\n",
      "23574\n"
     ]
    }
   ],
   "source": [
    "max_len_dev = -1\n",
    "for sent in new_dev:\n",
    "    if len(sent) > max_len_dev:\n",
    "        max_len_dev = len(sent)\n",
    "print(max_len_dev)\n",
    "\n",
    "words = set()\n",
    "tags = set()\n",
    "max_len_sent = -1\n",
    "for sent in new_train:\n",
    "    for w in sent:\n",
    "        words.add(w[0])\n",
    "        tags.add(w[2])\n",
    "    if len(sent) > max_len_sent:\n",
    "        max_len_sent = len(sent)\n",
    "words = list(words)\n",
    "tags = list(tags)\n",
    "print(max_len_sent)\n",
    "n_words = len(words)\n",
    "n_tags = len(tags)\n",
    "print(n_words)\n",
    "\n",
    "max_len = 60\n",
    "word2idx = {w: i for i, w in enumerate(words)}\n",
    "# tag2idx = {t: i for i, t in enumerate(tags)}"
   ]
  },
  {
   "cell_type": "code",
   "execution_count": 0,
   "metadata": {
    "colab": {
     "base_uri": "https://localhost:8080/",
     "height": 35
    },
    "colab_type": "code",
    "id": "HNNPwU8LM_dL",
    "outputId": "a31766e1-76fb-4e40-af5b-9b37c48b6136"
   },
   "outputs": [
    {
     "name": "stdout",
     "output_type": "stream",
     "text": [
      "{'B-MISC': 3, 'B-LOC': 4, 'O': 5, 'I-LOC': 6, 'B-ORG': 7, 'I-MISC': 8, 'B-PER': 9, 'I-PER': 10, 'I-ORG': 11}\n"
     ]
    }
   ],
   "source": [
    "# 추가\n",
    "from copy import deepcopy\n",
    "tags_vals = deepcopy(tags)\n",
    "tag2idx = {t: i+3 for i, t in enumerate(tags_vals)}\n",
    "print(tag2idx)\n",
    "tag2idx['[CLS]'] = 0\n",
    "tag2idx['[SEP]'] = 1\n",
    "tag2idx['X'] = 2\n",
    "\n",
    "tag2name={tag2idx[key] : key for key in tag2idx.keys()}"
   ]
  },
  {
   "cell_type": "code",
   "execution_count": 0,
   "metadata": {
    "colab": {},
    "colab_type": "code",
    "id": "IHogKGxNNBim"
   },
   "outputs": [],
   "source": [
    "device = torch.device(\"cuda\" if torch.cuda.is_available() else \"cpu\")\n",
    "n_gpu = torch.cuda.device_count()\n",
    "tokenizer = BertTokenizer.from_pretrained('bert-base-cased', do_lower_case=False)"
   ]
  },
  {
   "cell_type": "code",
   "execution_count": 0,
   "metadata": {
    "colab": {},
    "colab_type": "code",
    "id": "jPzyjvYANBXC"
   },
   "outputs": [],
   "source": [
    "def for_tt_wpl(sentences,labels):\n",
    "    tokenized_texts = []\n",
    "    word_piece_labels = []\n",
    "    i_inc = 0\n",
    "    for word_list,label in (zip(sentences,labels)):\n",
    "        temp_lable = []\n",
    "        temp_token = []\n",
    "        \n",
    "        # Add [CLS] at the front \n",
    "        temp_lable.append('[CLS]')\n",
    "        temp_token.append('[CLS]')\n",
    "        \n",
    "        for word,lab in zip(word_list,label):\n",
    "            token_list = tokenizer.tokenize(word)\n",
    "            for m,token in enumerate(token_list):\n",
    "                temp_token.append(token)\n",
    "                if m==0:\n",
    "                    temp_lable.append(lab)\n",
    "                else:\n",
    "                    temp_lable.append('X')  \n",
    "                    \n",
    "        # Add [SEP] at the end\n",
    "        temp_lable.append('[SEP]')\n",
    "        temp_token.append('[SEP]')\n",
    "        \n",
    "        tokenized_texts.append(temp_token)\n",
    "        word_piece_labels.append(temp_lable)\n",
    "        \n",
    "        if 2 > i_inc:\n",
    "            print(\"No.%d,len:%d\"%(i_inc,len(temp_token)))\n",
    "            print(\"texts:%s\"%(\" \".join(temp_token)))\n",
    "            print(\"No.%d,len:%d\"%(i_inc,len(temp_lable)))\n",
    "            print(\"lables:%s\"%(\" \".join(temp_lable)))\n",
    "        i_inc +=1\n",
    "    return tokenized_texts, word_piece_labels"
   ]
  },
  {
   "cell_type": "code",
   "execution_count": 0,
   "metadata": {
    "colab": {
     "base_uri": "https://localhost:8080/",
     "height": 379
    },
    "colab_type": "code",
    "id": "1SdBVKKQNJrR",
    "outputId": "416fa6f7-c435-48ba-8b07-a2839a2c15ea"
   },
   "outputs": [
    {
     "name": "stdout",
     "output_type": "stream",
     "text": [
      "No.0,len:12\n",
      "texts:[CLS] EU rejects German call to boycott British la ##mb . [SEP]\n",
      "No.0,len:12\n",
      "lables:[CLS] B-ORG O B-MISC O O O B-MISC O X O [SEP]\n",
      "No.1,len:4\n",
      "texts:[CLS] Peter Blackburn [SEP]\n",
      "No.1,len:4\n",
      "lables:[CLS] B-PER I-PER [SEP]\n",
      "\n",
      "================================================================================\n",
      "\n",
      "No.0,len:37\n",
      "texts:[CLS] CR ##IC ##KE ##T - L ##EI ##CE ##ST ##ER ##S ##H ##IR ##E T ##A ##KE O ##VE ##R AT TO ##P A ##FT ##ER IN ##NI ##NG ##S VI ##CT ##OR ##Y . [SEP]\n",
      "No.0,len:37\n",
      "lables:[CLS] O X X X O B-ORG X X X X X X X X O X X O X X O O X O X X O X X X O X X X O [SEP]\n",
      "No.1,len:11\n",
      "texts:[CLS] L ##ON ##D ##ON 1996 - 08 - 30 [SEP]\n",
      "No.1,len:11\n",
      "lables:[CLS] B-LOC X X X O X X X X [SEP]\n"
     ]
    }
   ],
   "source": [
    "tr_tokenized_texts , tr_word_piece_labels = for_tt_wpl(tr_sentences, tr_labels)\n",
    "print()\n",
    "print(\"=\"*80)\n",
    "print()\n",
    "dev_tokenized_texts , dev_word_piece_labels = for_tt_wpl(dev_sentences, dev_labels)"
   ]
  },
  {
   "cell_type": "code",
   "execution_count": 0,
   "metadata": {
    "colab": {},
    "colab_type": "code",
    "id": "rpHS5QuHNOl9"
   },
   "outputs": [],
   "source": [
    "tr_input_ids = pad_sequences([tokenizer.convert_tokens_to_ids(txt) for txt in tr_tokenized_texts],\n",
    "                          maxlen=max_len, dtype=\"long\", truncating=\"post\", padding=\"post\")\n",
    "dev_input_ids = pad_sequences([tokenizer.convert_tokens_to_ids(txt) for txt in dev_tokenized_texts],\n",
    "                          maxlen=max_len, dtype=\"long\", truncating=\"post\", padding=\"post\")\n",
    "\n",
    "tr_tags = pad_sequences([[tag2idx.get(l) for l in lab] for lab in tr_word_piece_labels],\n",
    "                     maxlen=max_len, value=tag2idx[\"O\"], padding=\"post\",\n",
    "                     dtype=\"long\", truncating=\"post\")\n",
    "dev_tags = pad_sequences([[tag2idx.get(l) for l in lab] for lab in dev_word_piece_labels],\n",
    "                     maxlen=max_len, value=tag2idx[\"O\"], padding=\"post\",\n",
    "                     dtype=\"long\", truncating=\"post\")\n",
    "\n",
    "tr_attention_masks = [[int(i>0) for i in ii] for ii in tr_input_ids]\n",
    "dev_attention_masks = [[int(i>0) for i in ii] for ii in dev_input_ids]\n",
    "\n",
    "tr_segment_ids = [[0] * len(input_id) for input_id in tr_input_ids]\n",
    "dev_segment_ids = [[0] * len(input_id) for input_id in dev_input_ids]\n",
    "\n",
    "\n",
    "train_inputs, val_inputs, train_tags, val_tags,train_masks, val_masks,train_segs, val_segs = \\\n",
    "train_test_split(tr_input_ids, tr_tags, tr_attention_masks, tr_segment_ids, random_state=2019, test_size=0.1)"
   ]
  },
  {
   "cell_type": "code",
   "execution_count": 0,
   "metadata": {
    "colab": {},
    "colab_type": "code",
    "id": "-l8vXX1rC9N5"
   },
   "outputs": [],
   "source": []
  },
  {
   "cell_type": "code",
   "execution_count": 0,
   "metadata": {
    "colab": {
     "base_uri": "https://localhost:8080/",
     "height": 35
    },
    "colab_type": "code",
    "id": "McnNvb2kNcWf",
    "outputId": "147342f3-2c8b-4cac-cc3e-effdc764b5d2"
   },
   "outputs": [
    {
     "data": {
      "text/plain": [
       "(12632, 1404, 12632, 1404)"
      ]
     },
     "execution_count": 12,
     "metadata": {
      "tags": []
     },
     "output_type": "execute_result"
    }
   ],
   "source": [
    "len(train_inputs),len(val_inputs),len(train_segs),len(val_segs)"
   ]
  },
  {
   "cell_type": "code",
   "execution_count": 0,
   "metadata": {
    "colab": {},
    "colab_type": "code",
    "id": "fAadx9ieNc7g"
   },
   "outputs": [],
   "source": [
    "train_inputs = torch.tensor(train_inputs)\n",
    "val_inputs = torch.tensor(val_inputs)\n",
    "\n",
    "train_tags = torch.tensor(train_tags)\n",
    "val_tags = torch.tensor(val_tags)\n",
    "\n",
    "train_masks = torch.tensor(train_masks)\n",
    "val_masks = torch.tensor(val_masks)\n",
    "\n",
    "train_segs = torch.tensor(train_segs)\n",
    "val_segs = torch.tensor(val_segs)"
   ]
  },
  {
   "cell_type": "code",
   "execution_count": 0,
   "metadata": {
    "colab": {},
    "colab_type": "code",
    "id": "CNbALPQpNeT9"
   },
   "outputs": [],
   "source": [
    "# Only set token embedding, attention embedding, no segment embedding\n",
    "batch_num = 32\n",
    "train_data = TensorDataset(train_inputs, train_masks, train_tags)\n",
    "train_sampler = RandomSampler(train_data)\n",
    "# Drop last can make batch training better for the last one\n",
    "train_dataloader = DataLoader(train_data, sampler=train_sampler, batch_size=batch_num,drop_last=True)\n",
    "\n",
    "valid_data = TensorDataset(val_inputs, val_masks, val_tags)\n",
    "valid_sampler = SequentialSampler(valid_data)\n",
    "valid_dataloader = DataLoader(valid_data, sampler=valid_sampler, batch_size=batch_num)"
   ]
  },
  {
   "cell_type": "code",
   "execution_count": 0,
   "metadata": {
    "colab": {},
    "colab_type": "code",
    "id": "la2enMa_Ngan"
   },
   "outputs": [],
   "source": [
    "model = BertForTokenClassification.from_pretrained(\"bert-base-uncased\", num_labels=len(tag2idx))"
   ]
  },
  {
   "cell_type": "code",
   "execution_count": 0,
   "metadata": {
    "colab": {},
    "colab_type": "code",
    "id": "_vjJMyOuNgI9"
   },
   "outputs": [],
   "source": [
    "model;\n",
    "model.cuda();"
   ]
  },
  {
   "cell_type": "code",
   "execution_count": 0,
   "metadata": {
    "colab": {},
    "colab_type": "code",
    "id": "6GXtUwCNNkV7"
   },
   "outputs": [],
   "source": [
    "# Set epoch and grad max num\n",
    "import math\n",
    "epochs = 5\n",
    "max_grad_norm = 1.0\n",
    "num_train_optimization_steps = int( math.ceil(len(train_inputs) / batch_num) / 1) * epochs"
   ]
  },
  {
   "cell_type": "code",
   "execution_count": 0,
   "metadata": {
    "colab": {},
    "colab_type": "code",
    "id": "CPnwPXsaNluy"
   },
   "outputs": [],
   "source": [
    "FULL_FINETUNING = True\n",
    "if FULL_FINETUNING:\n",
    "    # Fine tune model all layer parameters\n",
    "    param_optimizer = list(model.named_parameters())\n",
    "    no_decay = ['bias', 'gamma', 'beta']\n",
    "    optimizer_grouped_parameters = [\n",
    "        {'params': [p for n, p in param_optimizer if not any(nd in n for nd in no_decay)],\n",
    "         'weight_decay_rate': 0.01},\n",
    "        {'params': [p for n, p in param_optimizer if any(nd in n for nd in no_decay)],\n",
    "         'weight_decay_rate': 0.0}\n",
    "    ]\n",
    "else:\n",
    "    # Only fine tune classifier parameters\n",
    "    param_optimizer = list(model.classifier.named_parameters()) \n",
    "    optimizer_grouped_parameters = [{\"params\": [p for n, p in param_optimizer]}]\n",
    "optimizer = AdamW(optimizer_grouped_parameters, lr=3e-5)"
   ]
  },
  {
   "cell_type": "code",
   "execution_count": 0,
   "metadata": {
    "colab": {},
    "colab_type": "code",
    "id": "8jA_M6-VNnoo"
   },
   "outputs": [],
   "source": [
    "# TRAIN loop\n",
    "model.train();"
   ]
  },
  {
   "cell_type": "code",
   "execution_count": 0,
   "metadata": {
    "colab": {},
    "colab_type": "code",
    "id": "aB7y_3kHyF-s"
   },
   "outputs": [],
   "source": [
    "from time import time"
   ]
  },
  {
   "cell_type": "code",
   "execution_count": 0,
   "metadata": {
    "colab": {
     "base_uri": "https://localhost:8080/",
     "height": 215
    },
    "colab_type": "code",
    "id": "AeK3pt4qNoNp",
    "outputId": "650fb44a-d9e5-476b-a54e-23b67377f402"
   },
   "outputs": [
    {
     "name": "stderr",
     "output_type": "stream",
     "text": [
      "\r",
      "Epoch:   0%|          | 0/5 [00:00<?, ?it/s]"
     ]
    },
    {
     "name": "stdout",
     "output_type": "stream",
     "text": [
      "***** Running training *****\n",
      "  Num examples = 12632\n",
      "  Batch size = 32\n",
      "  Num steps = 1975\n"
     ]
    },
    {
     "name": "stderr",
     "output_type": "stream",
     "text": [
      "\r",
      "Epoch:  20%|██        | 1/5 [04:39<18:39, 279.84s/it]"
     ]
    },
    {
     "name": "stdout",
     "output_type": "stream",
     "text": [
      "Train loss: 0.5723096344071597\n"
     ]
    },
    {
     "name": "stderr",
     "output_type": "stream",
     "text": [
      "\r",
      "Epoch:  40%|████      | 2/5 [09:19<13:59, 279.89s/it]"
     ]
    },
    {
     "name": "stdout",
     "output_type": "stream",
     "text": [
      "Train loss: 0.24828286966318405\n"
     ]
    },
    {
     "name": "stderr",
     "output_type": "stream",
     "text": [
      "\r",
      "Epoch:  60%|██████    | 3/5 [13:59<09:19, 279.92s/it]"
     ]
    },
    {
     "name": "stdout",
     "output_type": "stream",
     "text": [
      "Train loss: 0.1395082357835951\n"
     ]
    },
    {
     "name": "stderr",
     "output_type": "stream",
     "text": [
      "\r",
      "Epoch:  80%|████████  | 4/5 [18:39<04:39, 279.95s/it]"
     ]
    },
    {
     "name": "stdout",
     "output_type": "stream",
     "text": [
      "Train loss: 0.08584268826064724\n"
     ]
    },
    {
     "name": "stderr",
     "output_type": "stream",
     "text": [
      "\r",
      "Epoch: 100%|██████████| 5/5 [23:19<00:00, 279.98s/it]"
     ]
    },
    {
     "name": "stdout",
     "output_type": "stream",
     "text": [
      "Train loss: 0.05381848574686928\n",
      "test time:  1399.907s\n"
     ]
    },
    {
     "name": "stderr",
     "output_type": "stream",
     "text": [
      "\n"
     ]
    }
   ],
   "source": [
    "print(\"***** Running training *****\")\n",
    "print(\"  Num examples = %d\"%(len(train_inputs)))\n",
    "print(\"  Batch size = %d\"%(batch_num))\n",
    "print(\"  Num steps = %d\"%(num_train_optimization_steps))\n",
    "\n",
    "t0 = time()\n",
    "\n",
    "for _ in trange(epochs,desc=\"Epoch\"):\n",
    "    tr_loss = 0\n",
    "    nb_tr_examples, nb_tr_steps = 0, 0\n",
    "    for step, batch in enumerate(train_dataloader):\n",
    "        # add batch to gpu\n",
    "        batch = tuple(t.to(device) for t in batch)\n",
    "        b_input_ids, b_input_mask, b_labels = batch\n",
    "        \n",
    "        # forward pass\n",
    "        outputs = model(b_input_ids, token_type_ids=None,\n",
    "        attention_mask=b_input_mask, labels=b_labels)\n",
    "        loss, scores = outputs[:2]\n",
    "        if n_gpu>1:\n",
    "            # When multi gpu, average it\n",
    "            loss = loss.mean()\n",
    "        \n",
    "        # backward pass\n",
    "        loss.backward()\n",
    "        \n",
    "        # track train loss\n",
    "        tr_loss += loss.item()\n",
    "        nb_tr_examples += b_input_ids.size(0)\n",
    "        nb_tr_steps += 1\n",
    "        \n",
    "        # gradient clipping\n",
    "        torch.nn.utils.clip_grad_norm_(parameters=model.parameters(), max_norm=max_grad_norm)\n",
    "        \n",
    "        # update parameters\n",
    "        optimizer.step()\n",
    "        optimizer.zero_grad()\n",
    "        \n",
    "    # print train loss per epoch\n",
    "    print(\"Train loss: {}\".format(tr_loss/nb_tr_steps))\n",
    "\n",
    "test_time = time() - t0\n",
    "print(\"test time:  %0.3fs\" % test_time) # 오타\n",
    "\n",
    "train_time = time() - t0\n",
    "print(\"test time:  %0.3fs\" % train_time) # 오타\n"
   ]
  },
  {
   "cell_type": "code",
   "execution_count": 0,
   "metadata": {
    "colab": {},
    "colab_type": "code",
    "id": "wjIXb5GwGgKZ"
   },
   "outputs": [],
   "source": [
    "train_time = 1399.907"
   ]
  },
  {
   "cell_type": "code",
   "execution_count": 0,
   "metadata": {
    "colab": {},
    "colab_type": "code",
    "id": "guz9myzRAf3c"
   },
   "outputs": [],
   "source": [
    "!dir models"
   ]
  },
  {
   "cell_type": "code",
   "execution_count": 0,
   "metadata": {
    "colab": {
     "base_uri": "https://localhost:8080/",
     "height": 35
    },
    "colab_type": "code",
    "id": "MPIhowzCNq4N",
    "outputId": "af947890-7623-405f-f3bc-43d8184f05d1"
   },
   "outputs": [
    {
     "data": {
      "text/plain": [
       "('models/vocab.txt',)"
      ]
     },
     "execution_count": 25,
     "metadata": {
      "tags": []
     },
     "output_type": "execute_result"
    }
   ],
   "source": [
    "bert_out_address = 'models/'\n",
    "model_to_save = model.module if hasattr(model, 'module') else model\n",
    "output_model_file = os.path.join(bert_out_address, \"pytorch_model.bin\")\n",
    "output_config_file = os.path.join(bert_out_address, \"config.json\")\n",
    "torch.save(model_to_save.state_dict(), output_model_file)\n",
    "model_to_save.config.to_json_file(output_config_file)\n",
    "tokenizer.save_vocabulary(bert_out_address)"
   ]
  },
  {
   "cell_type": "code",
   "execution_count": 0,
   "metadata": {
    "colab": {
     "base_uri": "https://localhost:8080/",
     "height": 233
    },
    "colab_type": "code",
    "id": "AOXKrb6zA9HU",
    "outputId": "dca44a0b-ecff-4bf8-a742-a6271b665987"
   },
   "outputs": [
    {
     "data": {
      "text/plain": [
       "{'B-LOC': 9,\n",
       " 'B-MISC': 11,\n",
       " 'B-ORG': 6,\n",
       " 'B-PER': 5,\n",
       " 'I-LOC': 8,\n",
       " 'I-MISC': 7,\n",
       " 'I-ORG': 10,\n",
       " 'I-PER': 3,\n",
       " 'O': 4,\n",
       " 'X': 2,\n",
       " '[CLS]': 0,\n",
       " '[SEP]': 1}"
      ]
     },
     "execution_count": 27,
     "metadata": {
      "tags": []
     },
     "output_type": "execute_result"
    }
   ],
   "source": [
    "tag2idx"
   ]
  },
  {
   "cell_type": "code",
   "execution_count": 0,
   "metadata": {
    "colab": {},
    "colab_type": "code",
    "id": "RV_6CK_TNuX9"
   },
   "outputs": [],
   "source": [
    "model = BertForTokenClassification.from_pretrained(bert_out_address,num_labels=len(tag2idx))\n",
    "model.cuda();\n"
   ]
  },
  {
   "cell_type": "code",
   "execution_count": 0,
   "metadata": {
    "colab": {},
    "colab_type": "code",
    "id": "DqwDmS7lB1xs"
   },
   "outputs": [],
   "source": [
    "import torch.nn.functional as F"
   ]
  },
  {
   "cell_type": "code",
   "execution_count": 0,
   "metadata": {
    "colab": {
     "base_uri": "https://localhost:8080/",
     "height": 89
    },
    "colab_type": "code",
    "id": "exakjdJY6P_I",
    "outputId": "8af8facb-db8a-4a2b-c0f8-b1e75718e17c"
   },
   "outputs": [
    {
     "name": "stdout",
     "output_type": "stream",
     "text": [
      "***** Running evaluation *****\n",
      "  Num examples =1404\n",
      "  Batch size = 32\n",
      "test time:  10.081s\n"
     ]
    }
   ],
   "source": [
    "eval_loss, eval_accuracy = 0, 0\n",
    "nb_eval_steps, nb_eval_examples = 0, 0\n",
    "y_true = []\n",
    "y_pred = []\n",
    "\n",
    "print(\"***** Running evaluation *****\")\n",
    "print(\"  Num examples ={}\".format(len(val_inputs)))\n",
    "print(\"  Batch size = {}\".format(batch_num))\n",
    "\n",
    "t0 = time()\n",
    "\n",
    "for step, batch in enumerate(valid_dataloader):\n",
    "    batch = tuple(t.to(device) for t in batch)\n",
    "    input_ids, input_mask, label_ids = batch\n",
    "    \n",
    "#     if step > 2:\n",
    "#         break\n",
    "    \n",
    "    with torch.no_grad():\n",
    "        outputs = model(input_ids, token_type_ids=None,\n",
    "        attention_mask=input_mask,)\n",
    "        # For eval mode, the first result of outputs is logits\n",
    "        logits = outputs[0] \n",
    "    \n",
    "    # Get NER predict result\n",
    "    logits = torch.argmax(F.log_softmax(logits,dim=2),dim=2)\n",
    "    logits = logits.detach().cpu().numpy()\n",
    "    \n",
    "    \n",
    "    # Get NER true result\n",
    "    label_ids = label_ids.to('cpu').numpy()\n",
    "    \n",
    "    # Only predict the real word, mark=0, will not calculate\n",
    "    input_mask = input_mask.to('cpu').numpy()\n",
    "    \n",
    "    # Compare the valuable predict result\n",
    "    for i,mask in enumerate(input_mask):\n",
    "        # Real one\n",
    "        temp_1 = []\n",
    "        # Predict one\n",
    "        temp_2 = []\n",
    "        \n",
    "        for j, m in enumerate(mask):\n",
    "            # Mark=0, meaning its a pad word, dont compare\n",
    "            if m:\n",
    "                if tag2name[label_ids[i][j]] != \"X\" and tag2name[label_ids[i][j]] != \"[CLS]\" and tag2name[label_ids[i][j]] != \"[SEP]\" : # Exclude the X label\n",
    "                    temp_1.append(tag2name[label_ids[i][j]])\n",
    "                    temp_2.append(tag2name[logits[i][j]])\n",
    "            else:\n",
    "                break\n",
    "        y_true.append(temp_1)\n",
    "        y_pred.append(temp_2)\n",
    "\n",
    "\n",
    "# test time for final validation"
   ]
  },
  {
   "cell_type": "code",
   "execution_count": 0,
   "metadata": {
    "colab": {
     "base_uri": "https://localhost:8080/",
     "height": 35
    },
    "colab_type": "code",
    "id": "aGfWwRDNEdq8",
    "outputId": "d41cd6f2-9832-4064-de3d-352248e4dafb"
   },
   "outputs": [
    {
     "name": "stdout",
     "output_type": "stream",
     "text": [
      "final valid Acc: 0.962138\n"
     ]
    }
   ],
   "source": [
    "from seqeval.metrics import f1_score\n",
    "from seqeval.metrics import classification_report,accuracy_score,f1_score\n",
    "print(\"final valid Acc: %f\"%(accuracy_score(y_true, y_pred)))"
   ]
  },
  {
   "cell_type": "code",
   "execution_count": 0,
   "metadata": {
    "colab": {},
    "colab_type": "code",
    "id": "nw1thlhnDaM3"
   },
   "outputs": [],
   "source": [
    "dev_input_ids, dev_tags, dev_attention_masks, dev_segment_ids"
   ]
  },
  {
   "cell_type": "code",
   "execution_count": 0,
   "metadata": {
    "colab": {},
    "colab_type": "code",
    "id": "JO_Pl3R5DgSs"
   },
   "outputs": [],
   "source": [
    "test_inputs = torch.tensor(dev_input_ids)\n",
    "test_tags = torch.tensor(dev_tags)\n",
    "test_masks = torch.tensor(dev_attention_masks)\n",
    "test_segs = torch.tensor(dev_segment_ids)"
   ]
  },
  {
   "cell_type": "code",
   "execution_count": 0,
   "metadata": {
    "colab": {},
    "colab_type": "code",
    "id": "fg3M3Zs5DpZk"
   },
   "outputs": [],
   "source": [
    "test_data = TensorDataset(test_inputs, test_masks, test_tags)\n",
    "test_sampler = SequentialSampler(test_data)\n",
    "test_dataloader = DataLoader(test_data, sampler=test_sampler, batch_size=batch_num)"
   ]
  },
  {
   "cell_type": "code",
   "execution_count": 0,
   "metadata": {
    "colab": {
     "base_uri": "https://localhost:8080/",
     "height": 89
    },
    "colab_type": "code",
    "id": "g8o9E3mxEqjd",
    "outputId": "a5ce699b-afdc-437b-aea7-3a4ff3e17f27"
   },
   "outputs": [
    {
     "name": "stdout",
     "output_type": "stream",
     "text": [
      "***** Running evaluation *****\n",
      "  Num examples =373\n",
      "  Batch size = 32\n",
      "test time:  2.839s\n"
     ]
    }
   ],
   "source": [
    "\n",
    "eval_loss, eval_accuracy = 0, 0\n",
    "nb_eval_steps, nb_eval_examples = 0, 0\n",
    "y_true = []\n",
    "y_pred = []\n",
    "\n",
    "print(\"***** Running evaluation *****\")\n",
    "print(\"  Num examples ={}\".format(len(test_inputs)))\n",
    "print(\"  Batch size = {}\".format(batch_num))\n",
    "\n",
    "t0 = time()\n",
    "\n",
    "for step, batch in enumerate(test_dataloader):\n",
    "    batch = tuple(t.to(device) for t in batch)\n",
    "    input_ids, input_mask, label_ids = batch\n",
    "    \n",
    "#     if step > 2:\n",
    "#         break\n",
    "    \n",
    "    with torch.no_grad():\n",
    "        outputs = model(input_ids, token_type_ids=None,\n",
    "        attention_mask=input_mask,)\n",
    "        # For eval mode, the first result of outputs is logits\n",
    "        logits = outputs[0] \n",
    "    \n",
    "    # Get NER predict result\n",
    "    logits = torch.argmax(F.log_softmax(logits,dim=2),dim=2)\n",
    "    logits = logits.detach().cpu().numpy()\n",
    "    \n",
    "    \n",
    "    # Get NER true result\n",
    "    label_ids = label_ids.to('cpu').numpy()\n",
    "    \n",
    "    # Only predict the real word, mark=0, will not calculate\n",
    "    input_mask = input_mask.to('cpu').numpy()\n",
    "    \n",
    "    # Compare the valuable predict result\n",
    "    for i,mask in enumerate(input_mask):\n",
    "        # Real one\n",
    "        temp_1 = []\n",
    "        # Predict one\n",
    "        temp_2 = []\n",
    "        \n",
    "        for j, m in enumerate(mask):\n",
    "            # Mark=0, meaning its a pad word, dont compare\n",
    "            if m:\n",
    "                if tag2name[label_ids[i][j]] != \"X\" and tag2name[label_ids[i][j]] != \"[CLS]\" and tag2name[label_ids[i][j]] != \"[SEP]\" : # Exclude the X label\n",
    "                    temp_1.append(tag2name[label_ids[i][j]])\n",
    "                    temp_2.append(tag2name[logits[i][j]])\n",
    "            else:\n",
    "                break\n",
    "        y_true.append(temp_1)\n",
    "        y_pred.append(temp_2)\n",
    "\n",
    "test_time = time() - t0\n",
    "print(\"test time:  %0.3fs\" % test_time)"
   ]
  },
  {
   "cell_type": "code",
   "execution_count": 0,
   "metadata": {
    "colab": {
     "base_uri": "https://localhost:8080/",
     "height": 215
    },
    "colab_type": "code",
    "id": "gykhPvMLFC6E",
    "outputId": "bced9969-4fea-4754-9967-3e430c9e5a4b"
   },
   "outputs": [
    {
     "name": "stdout",
     "output_type": "stream",
     "text": [
      "F1-score: 77.7%\n",
      "           precision    recall  f1-score   support\n",
      "\n",
      "      LOC       0.82      0.91      0.86       161\n",
      "     MISC       0.65      0.76      0.70        67\n",
      "      PER       0.83      0.75      0.79       221\n",
      "      ORG       0.79      0.78      0.79       192\n",
      "\n",
      "micro avg       0.76      0.80      0.78       641\n",
      "macro avg       0.79      0.80      0.80       641\n",
      "\n"
     ]
    }
   ],
   "source": [
    "print(\"F1-score: {:.1%}\".format(f1_score(y_true, y_pred)))\n",
    "print(classification_report(y_true, y_pred))"
   ]
  },
  {
   "cell_type": "code",
   "execution_count": 0,
   "metadata": {
    "colab": {
     "base_uri": "https://localhost:8080/",
     "height": 53
    },
    "colab_type": "code",
    "id": "QUd_LM1gFpqi",
    "outputId": "ab6f7948-0543-4f1f-9d61-9c8e09112f21"
   },
   "outputs": [
    {
     "name": "stdout",
     "output_type": "stream",
     "text": [
      "0.7838479809976248\n",
      "0.9142091152815014\n"
     ]
    }
   ],
   "source": [
    "y_test_per = [['PER' if 'PER' in w else 'O' for w in s] for s in y_true]\n",
    "y_test_per_acc = [True if 'PER' in s else False for s in y_test_per]\n",
    "\n",
    "y_pred_per = [['PER' if 'PER' in w else 'O' for w in s] for s in y_pred]\n",
    "y_pred_per_acc = [True if 'PER' in s else False for s in y_pred_per]\n",
    "\n",
    "f1 = f1_score(y_test_per, y_pred_per)\n",
    "acc = accuracy_score(y_test_per_acc, y_pred_per_acc)\n",
    "\n",
    "print(f1)\n",
    "print(acc)"
   ]
  },
  {
   "cell_type": "code",
   "execution_count": 0,
   "metadata": {
    "colab": {
     "base_uri": "https://localhost:8080/",
     "height": 235
    },
    "colab_type": "code",
    "id": "Boho23-xCJ3B",
    "outputId": "b21124dd-c786-461b-a9ff-821427e324fe"
   },
   "outputs": [
    {
     "data": {
      "text/html": [
       "<div>\n",
       "<style scoped>\n",
       "    .dataframe tbody tr th:only-of-type {\n",
       "        vertical-align: middle;\n",
       "    }\n",
       "\n",
       "    .dataframe tbody tr th {\n",
       "        vertical-align: top;\n",
       "    }\n",
       "\n",
       "    .dataframe thead th {\n",
       "        text-align: right;\n",
       "    }\n",
       "</style>\n",
       "<table border=\"1\" class=\"dataframe\">\n",
       "  <thead>\n",
       "    <tr style=\"text-align: right;\">\n",
       "      <th></th>\n",
       "      <th>Model</th>\n",
       "      <th>f1</th>\n",
       "      <th>acc</th>\n",
       "      <th>train_time</th>\n",
       "      <th>test_time</th>\n",
       "    </tr>\n",
       "  </thead>\n",
       "  <tbody>\n",
       "    <tr>\n",
       "      <th>0</th>\n",
       "      <td>CRF</td>\n",
       "      <td>0.907801</td>\n",
       "      <td>0.962466</td>\n",
       "      <td>35.016066</td>\n",
       "      <td>0.064495</td>\n",
       "    </tr>\n",
       "    <tr>\n",
       "      <th>1</th>\n",
       "      <td>Simple_BiLSTMs</td>\n",
       "      <td>0.682292</td>\n",
       "      <td>0.911528</td>\n",
       "      <td>590.280816</td>\n",
       "      <td>1.512472</td>\n",
       "    </tr>\n",
       "    <tr>\n",
       "      <th>2</th>\n",
       "      <td>LSTM-CRF</td>\n",
       "      <td>0.699029</td>\n",
       "      <td>0.935657</td>\n",
       "      <td>1008.106285</td>\n",
       "      <td>2.776443</td>\n",
       "    </tr>\n",
       "    <tr>\n",
       "      <th>3</th>\n",
       "      <td>Char_Embedding</td>\n",
       "      <td>0.810021</td>\n",
       "      <td>0.924933</td>\n",
       "      <td>1000.873730</td>\n",
       "      <td>2.313342</td>\n",
       "    </tr>\n",
       "    <tr>\n",
       "      <th>4</th>\n",
       "      <td>ELMO_residual</td>\n",
       "      <td>0.975057</td>\n",
       "      <td>0.983914</td>\n",
       "      <td>2566.433501</td>\n",
       "      <td>10.346242</td>\n",
       "    </tr>\n",
       "    <tr>\n",
       "      <th>5</th>\n",
       "      <td>BERT_clf</td>\n",
       "      <td>0.783848</td>\n",
       "      <td>0.914209</td>\n",
       "      <td>1399.907000</td>\n",
       "      <td>2.839446</td>\n",
       "    </tr>\n",
       "  </tbody>\n",
       "</table>\n",
       "</div>"
      ],
      "text/plain": [
       "            Model        f1       acc   train_time  test_time\n",
       "0             CRF  0.907801  0.962466    35.016066   0.064495\n",
       "1  Simple_BiLSTMs  0.682292  0.911528   590.280816   1.512472\n",
       "2        LSTM-CRF  0.699029  0.935657  1008.106285   2.776443\n",
       "3  Char_Embedding  0.810021  0.924933  1000.873730   2.313342\n",
       "4   ELMO_residual  0.975057  0.983914  2566.433501  10.346242\n",
       "5        BERT_clf  0.783848  0.914209  1399.907000   2.839446"
      ]
     },
     "execution_count": 47,
     "metadata": {
      "tags": []
     },
     "output_type": "execute_result"
    }
   ],
   "source": [
    "import pandas as pd\n",
    "results = pd.read_csv('./results.csv')\n",
    "results = results.append({'Model':'BERT_clf', \n",
    "                          'f1':f1 , \n",
    "                          'acc': acc , \n",
    "                          'train_time': train_time , \n",
    "                          'test_time': test_time},\n",
    "                          ignore_index=True)\n",
    "#results.to_csv('./results.csv', index=False)\n",
    "results"
   ]
  },
  {
   "cell_type": "code",
   "execution_count": 0,
   "metadata": {
    "colab": {},
    "colab_type": "code",
    "id": "iUSm5fHNGsWb"
   },
   "outputs": [],
   "source": [
    "results.to_csv('./results.csv', index=False)"
   ]
  },
  {
   "cell_type": "markdown",
   "metadata": {
    "colab_type": "text",
    "id": "Oc1lY5rlKJZ9"
   },
   "source": [
    "# 3. Visualize Results"
   ]
  },
  {
   "cell_type": "code",
   "execution_count": 0,
   "metadata": {
    "colab": {},
    "colab_type": "code",
    "id": "U_e_frNOKHzl"
   },
   "outputs": [],
   "source": [
    "import pandas as pd\n",
    "import numpy as np\n",
    "import os\n",
    "import matplotlib.pyplot as plt\n",
    "os.chdir('/gdrive/My Drive/estsoft')"
   ]
  },
  {
   "cell_type": "code",
   "execution_count": 0,
   "metadata": {
    "colab": {
     "base_uri": "https://localhost:8080/",
     "height": 235
    },
    "colab_type": "code",
    "id": "qgTft0EmJ4x_",
    "outputId": "0d11de38-df14-465e-d110-1b1b22ad1b1a"
   },
   "outputs": [
    {
     "data": {
      "text/html": [
       "<div>\n",
       "<style scoped>\n",
       "    .dataframe tbody tr th:only-of-type {\n",
       "        vertical-align: middle;\n",
       "    }\n",
       "\n",
       "    .dataframe tbody tr th {\n",
       "        vertical-align: top;\n",
       "    }\n",
       "\n",
       "    .dataframe thead th {\n",
       "        text-align: right;\n",
       "    }\n",
       "</style>\n",
       "<table border=\"1\" class=\"dataframe\">\n",
       "  <thead>\n",
       "    <tr style=\"text-align: right;\">\n",
       "      <th></th>\n",
       "      <th>Model</th>\n",
       "      <th>f1</th>\n",
       "      <th>acc</th>\n",
       "      <th>train_time</th>\n",
       "      <th>test_time</th>\n",
       "    </tr>\n",
       "  </thead>\n",
       "  <tbody>\n",
       "    <tr>\n",
       "      <th>4</th>\n",
       "      <td>ELMO_residual</td>\n",
       "      <td>0.975057</td>\n",
       "      <td>0.983914</td>\n",
       "      <td>2566.433501</td>\n",
       "      <td>10.346242</td>\n",
       "    </tr>\n",
       "    <tr>\n",
       "      <th>0</th>\n",
       "      <td>CRF</td>\n",
       "      <td>0.907801</td>\n",
       "      <td>0.962466</td>\n",
       "      <td>35.016066</td>\n",
       "      <td>0.064495</td>\n",
       "    </tr>\n",
       "    <tr>\n",
       "      <th>3</th>\n",
       "      <td>Char_Embedding</td>\n",
       "      <td>0.810021</td>\n",
       "      <td>0.924933</td>\n",
       "      <td>1000.873730</td>\n",
       "      <td>2.313342</td>\n",
       "    </tr>\n",
       "    <tr>\n",
       "      <th>5</th>\n",
       "      <td>BERT_clf</td>\n",
       "      <td>0.783848</td>\n",
       "      <td>0.914209</td>\n",
       "      <td>1399.907000</td>\n",
       "      <td>2.839446</td>\n",
       "    </tr>\n",
       "    <tr>\n",
       "      <th>2</th>\n",
       "      <td>LSTM-CRF</td>\n",
       "      <td>0.699029</td>\n",
       "      <td>0.935657</td>\n",
       "      <td>1008.106285</td>\n",
       "      <td>2.776443</td>\n",
       "    </tr>\n",
       "    <tr>\n",
       "      <th>1</th>\n",
       "      <td>Simple_BiLSTMs</td>\n",
       "      <td>0.682292</td>\n",
       "      <td>0.911528</td>\n",
       "      <td>590.280816</td>\n",
       "      <td>1.512472</td>\n",
       "    </tr>\n",
       "  </tbody>\n",
       "</table>\n",
       "</div>"
      ],
      "text/plain": [
       "            Model        f1       acc   train_time  test_time\n",
       "4   ELMO_residual  0.975057  0.983914  2566.433501  10.346242\n",
       "0             CRF  0.907801  0.962466    35.016066   0.064495\n",
       "3  Char_Embedding  0.810021  0.924933  1000.873730   2.313342\n",
       "5        BERT_clf  0.783848  0.914209  1399.907000   2.839446\n",
       "2        LSTM-CRF  0.699029  0.935657  1008.106285   2.776443\n",
       "1  Simple_BiLSTMs  0.682292  0.911528   590.280816   1.512472"
      ]
     },
     "execution_count": 68,
     "metadata": {
      "tags": []
     },
     "output_type": "execute_result"
    }
   ],
   "source": [
    "results = pd.read_csv('./results.csv')\n",
    "results=results.sort_values('f1', ascending = False)\n",
    "results"
   ]
  },
  {
   "cell_type": "code",
   "execution_count": 0,
   "metadata": {
    "colab": {},
    "colab_type": "code",
    "id": "CtmqBSSgSCKX"
   },
   "outputs": [],
   "source": [
    "results = results.values.tolist()"
   ]
  },
  {
   "cell_type": "code",
   "execution_count": 0,
   "metadata": {
    "colab": {},
    "colab_type": "code",
    "id": "oDMbLdhKLR_L"
   },
   "outputs": [],
   "source": [
    "indices = np.arange(len(results))"
   ]
  },
  {
   "cell_type": "code",
   "execution_count": 0,
   "metadata": {
    "colab": {},
    "colab_type": "code",
    "id": "sQYeADZ8I5sH"
   },
   "outputs": [],
   "source": [
    "results = [[x[i] for x in results] for i in range(5)]"
   ]
  },
  {
   "cell_type": "code",
   "execution_count": 0,
   "metadata": {
    "colab": {
     "base_uri": "https://localhost:8080/",
     "height": 582
    },
    "colab_type": "code",
    "id": "-8pv6veULgK4",
    "outputId": "6e243a5c-07be-49f7-eb3c-f73876b09b4f"
   },
   "outputs": [
    {
     "data": {
      "image/png": "[encoded data removed]",
      "text/plain": [
       "<Figure size 864x576 with 1 Axes>"
      ]
     },
     "metadata": {
      "tags": []
     },
     "output_type": "display_data"
    }
   ],
   "source": [
    "clf_names, f1 , acc, training_time, test_time,  = results\n",
    "training_time = np.array(training_time) / np.max(training_time)\n",
    "test_time = np.array(test_time) / np.max(test_time)\n",
    "\n",
    "plt.figure(figsize=(12, 8))\n",
    "plt.title(\"score\")\n",
    "\n",
    "plt.barh(indices, f1, .1, label=\"f1\", color='navy')\n",
    "plt.barh(indices + .22, acc, .1, label=\"acc\", color='blue')\n",
    "plt.barh(indices + .44, training_time, .1, label=\"training time\", color='red')\n",
    "plt.barh(indices + .66, test_time, .1, label=\"test time\", color='darkorange')\n",
    "plt.yticks(())\n",
    "\n",
    "plt.legend(loc='best')\n",
    "plt.subplots_adjust(left=.25)\n",
    "plt.subplots_adjust(top=.95)\n",
    "plt.subplots_adjust(bottom=.05)\n",
    "\n",
    "for i, c in zip(indices, clf_names):\n",
    "    plt.text(-.2, i, c)\n",
    "\n",
    "plt.show()"
   ]
  },
  {
   "cell_type": "markdown",
   "metadata": {
    "colab_type": "text",
    "id": "aaUC_sboKpQK"
   },
   "source": [
    "# Spacy & NLTK Tokenizer Issue\n",
    "\n",
    "- 주어진 데이터를 문장으로 바꾼 후 spacy나 NLTK를 활용해 토큰화 하면 기존의 출력 차원과 달라진다.\n",
    "\n"
   ]
  },
  {
   "cell_type": "code",
   "execution_count": 0,
   "metadata": {
    "colab": {},
    "colab_type": "code",
    "id": "lOrFds-avnjF"
   },
   "outputs": [],
   "source": [
    "import spacy\n",
    "import nltk\n",
    "import re\n",
    "nlp = spacy.load(\"en_core_web_sm\")"
   ]
  },
  {
   "cell_type": "code",
   "execution_count": 0,
   "metadata": {
    "colab": {},
    "colab_type": "code",
    "id": "Ek_WVUrgpFAA"
   },
   "outputs": [],
   "source": [
    "train_CoNLL03_sample = open('./data/train.txt')\n",
    "train = [line for line in train_CoNLL03_sample]\n",
    "\n",
    "dev_CoNLL03_sample = open('./data/dev.txt')\n",
    "dev = [line for line in dev_CoNLL03_sample]"
   ]
  },
  {
   "cell_type": "code",
   "execution_count": 0,
   "metadata": {
    "colab": {},
    "colab_type": "code",
    "id": "-65b45lrlC_V"
   },
   "outputs": [],
   "source": [
    "def make_sentence(f):\n",
    "    full_sent = []\n",
    "    full_ans = []\n",
    "    temp_sent = \"\"\n",
    "    temp_ans = []\n",
    "    for line in f:\n",
    "        if len(line)==0 or line[0]==\"\\n\":\n",
    "            if len(temp_sent) > 0:\n",
    "                full_sent.append(temp_sent)\n",
    "                full_ans.append(temp_ans)\n",
    "                temp_sent = \"\"\n",
    "                temp_ans = []\n",
    "            continue\n",
    "        token = line.split(' ')\n",
    "        token[-1] = re.sub(r'\\n', '', token[-1])\n",
    "        if len(temp_sent) == 0 or token[0] == '.':\n",
    "            temp_sent += token[0] \n",
    "        else:\n",
    "            temp_sent += \" \"+ token[0]\n",
    "        temp_ans.append(token[-1])\n",
    "    return full_sent, full_ans\n"
   ]
  },
  {
   "cell_type": "code",
   "execution_count": 0,
   "metadata": {
    "colab": {},
    "colab_type": "code",
    "id": "jnRDNpFIn-Uq"
   },
   "outputs": [],
   "source": [
    "train_sents, train_ans = make_sentence(train)\n",
    "dev_sents, dev_ans = make_sentence(dev)"
   ]
  },
  {
   "cell_type": "code",
   "execution_count": 0,
   "metadata": {
    "colab": {},
    "colab_type": "code",
    "id": "JpxgxopWLHKA"
   },
   "outputs": [],
   "source": [
    "def pos_tag_spacy(sents, anss):\n",
    "    form = []\n",
    "    matches = 0\n",
    "    for i, sent in enumerate(sents):\n",
    "        temp = []\n",
    "        doc = nlp(sent)\n",
    "        if len(doc) == len(anss[i]):\n",
    "            matches +=1\n",
    "        for token in doc:\n",
    "            temp.append((token.text,token.tag_))\n",
    "        form.append(temp)\n",
    "        # else:\n",
    "        #     continue\n",
    "    print(\"# of sentence didn't matched:\", str(len(sents) - matches))\n",
    "    return form"
   ]
  },
  {
   "cell_type": "code",
   "execution_count": 0,
   "metadata": {
    "colab": {
     "base_uri": "https://localhost:8080/",
     "height": 52
    },
    "colab_type": "code",
    "id": "i90rYKVdtyaW",
    "outputId": "d188378b-c977-4ac4-e8fe-15bc0a3efac4"
   },
   "outputs": [
    {
     "name": "stdout",
     "output_type": "stream",
     "text": [
      "# of sentence didn't matched: 411\n",
      "# of sentence didn't matched: 359\n"
     ]
    }
   ],
   "source": [
    "train_formed = pos_tag_spacy(train_sents, train_ans)\n",
    "test_formed = pos_tag_spacy(dev_sents, dev_ans)"
   ]
  },
  {
   "cell_type": "code",
   "execution_count": 0,
   "metadata": {
    "colab": {
     "base_uri": "https://localhost:8080/",
     "height": 70
    },
    "colab_type": "code",
    "id": "IBjC1nFTLyhA",
    "outputId": "3cd25591-a8a3-4ea1-c945-ebe67519d535"
   },
   "outputs": [
    {
     "name": "stdout",
     "output_type": "stream",
     "text": [
      "BRUSSELS 1996-08-22\n",
      "[('BRUSSELS', 'NNP'), ('1996', 'CD'), ('-', 'HYPH'), ('08', 'CD'), ('-', 'HYPH'), ('22', 'CD')]\n",
      "['B-LOC', 'O']\n"
     ]
    }
   ],
   "source": [
    "print(train_sents[2])\n",
    "print(train_formed[2])\n",
    "print(train_ans[2])"
   ]
  },
  {
   "cell_type": "code",
   "execution_count": 0,
   "metadata": {
    "colab": {},
    "colab_type": "code",
    "id": "6tUhLoxhLgyM"
   },
   "outputs": [],
   "source": [
    "def pos_tag_nltk(sents, anss):\n",
    "    form = []\n",
    "    matches = 0\n",
    "    for i, sent in enumerate(sents):\n",
    "        temp = []\n",
    "        tagged_list = nltk.pos_tag(nltk.word_tokenize(sent))\n",
    "        if len(tagged_list) == len(anss[i]):\n",
    "            matches +=1\n",
    "        form.append(tagged_list)\n",
    "    print(\"# of sentence didn't matched:\", str(len(sents) - matches))\n",
    "    return form"
   ]
  },
  {
   "cell_type": "code",
   "execution_count": 0,
   "metadata": {
    "colab": {
     "base_uri": "https://localhost:8080/",
     "height": 52
    },
    "colab_type": "code",
    "id": "WZBUo8BmKkhU",
    "outputId": "7bea1602-1d3b-47bb-81b7-a74478ecd5b2"
   },
   "outputs": [
    {
     "name": "stdout",
     "output_type": "stream",
     "text": [
      "# of sentence didn't matched: 119\n",
      "# of sentence didn't matched: 356\n"
     ]
    }
   ],
   "source": [
    "train_formed = pos_tag_nltk(train_sents, train_ans)\n",
    "test_formed = pos_tag_nltk(dev_sents, dev_ans)"
   ]
  },
  {
   "cell_type": "code",
   "execution_count": 0,
   "metadata": {
    "colab": {},
    "colab_type": "code",
    "id": "SAUwYVGNWdeQ"
   },
   "outputs": [],
   "source": [
    "def change_form_spacy(f):\n",
    "    form = []\n",
    "    temp_sent = []\n",
    "    i = 0\n",
    "    for line in f:\n",
    "        if len(line) == 0 or line[0]==\"\\n\":\n",
    "            if len(temp_sent) > 0:\n",
    "                form.append(temp_sent)\n",
    "                temp_sent = []\n",
    "            continue\n",
    "        token = line.split(' ')\n",
    "        token[-1] = re.sub(r'\\n', '', token[-1])\n",
    "        doc = nlp(token[0])\n",
    "        token_POS = doc[0].tag_\n",
    "        if len(doc) > 1:\n",
    "            if  i < 30 :\n",
    "                print(doc)\n",
    "            i += 1\n",
    "        temp_sent.append((token[0],token_POS,token[3]))\n",
    "    print('# of token didnt mathed:' ,str(i))\n",
    "    return form"
   ]
  },
  {
   "cell_type": "code",
   "execution_count": 0,
   "metadata": {
    "colab": {
     "base_uri": "https://localhost:8080/",
     "height": 568
    },
    "colab_type": "code",
    "id": "hzml9e1GYiLJ",
    "outputId": "8398d062-853f-4b61-ea60-658a1e6ff08f"
   },
   "outputs": [
    {
     "name": "stdout",
     "output_type": "stream",
     "text": [
      "1996-08-22\n",
      "EU-wide\n",
      "re-examine\n",
      "brain-wasting\n",
      "1996-08-22\n",
      "1996-08-22\n",
      "1996-08-22\n",
      "1996-08-22\n",
      "first-time\n",
      "year-earlier\n",
      "Motor-bike\n",
      "1996-08-22\n",
      "3311812-4\n",
      "six-year\n",
      "1996-08-22\n",
      "1-10-100\n",
      "1996-08-22\n",
      "floating-rate\n",
      "3M\n",
      "1-10-100\n",
      "1996-08-22\n",
      "Ben-Elissar\n",
      "right-wing\n",
      "Israeli-Syrian\n",
      "1996-08-22\n",
      "non-payment\n",
      "1996-08-22\n",
      "Secretary-General\n",
      "1996-08-22\n",
      "One-month\n",
      "# of token didnt mathed: 539\n"
     ]
    }
   ],
   "source": [
    "train_form = change_form_spacy(train)"
   ]
  },
  {
   "cell_type": "code",
   "execution_count": 0,
   "metadata": {
    "colab": {},
    "colab_type": "code",
    "id": "yl1czOUWSh3T"
   },
   "outputs": [],
   "source": [
    "def change_form_nltk(f):\n",
    "    form = []\n",
    "    temp_sent = []\n",
    "    i = 0\n",
    "    for line in f:\n",
    "        if len(line)==0 or line[0]==\"\\n\":\n",
    "            if len(temp_sent) > 0:\n",
    "                form.append(temp_sent)\n",
    "                temp_sent = []\n",
    "            continue\n",
    "        token = line.split(' ')\n",
    "        token[-1] = re.sub(r'\\n', '', token[-1])\n",
    "        tagged_list = nltk.pos_tag(nltk.word_tokenize(token[0]))\n",
    "        if len(tagged_list) > 1:\n",
    "            if  i < 30 :\n",
    "                print(tagged_list)\n",
    "            i+=1\n",
    "        temp_sent.append((token[0],tagged_list[0][1],token[3]))\n",
    "    print('# of token didnt mathed:' ,str(i))\n",
    "    return form"
   ]
  },
  {
   "cell_type": "code",
   "execution_count": 0,
   "metadata": {
    "colab": {
     "base_uri": "https://localhost:8080/",
     "height": 568
    },
    "colab_type": "code",
    "id": "X3RbfXrWUcx1",
    "outputId": "629c32e3-3250-4213-8599-28986e3ef2db"
   },
   "outputs": [
    {
     "name": "stdout",
     "output_type": "stream",
     "text": [
      "[('U.S', 'NNP'), ('.', '.')]\n",
      "[('C', 'NNP'), ('$', '$')]\n",
      "[('C', 'NNP'), ('$', '$')]\n",
      "[('S', 'NNP'), ('&', 'CC'), ('P', 'NNP')]\n",
      "[('S', 'NNP'), ('&', 'CC'), ('P', 'NNP')]\n",
      "[('U.N', 'NNP'), ('.', '.')]\n",
      "[('E', 'NN'), ('.', '.')]\n",
      "[('U.S', 'NNP'), ('.', '.')]\n",
      "[('D.A', 'NNP'), ('.', '.')]\n",
      "[('F.C', 'NNP'), ('.', '.')]\n",
      "[('F.C', 'NNP'), ('.', '.')]\n",
      "[('F.C', 'NNP'), ('.', '.')]\n",
      "[('1', 'CD'), ('.', '.')]\n",
      "[('2', 'CD'), ('.', '.')]\n",
      "[('3', 'CD'), ('.', '.')]\n",
      "[('U.S', 'NNP'), ('.', '.')]\n",
      "[('U.S', 'NNP'), ('.', '.')]\n",
      "[('U.S', 'NNP'), ('.', '.')]\n",
      "[('D', 'NNP'), ('.', '.')]\n",
      "[('S', 'NNP'), ('.', '.')]\n",
      "[('G', 'NNP'), ('.', '.')]\n",
      "[('M', 'NNP'), ('.', '.')]\n",
      "[('J', 'NNP'), ('.', '.')]\n",
      "[('A', 'DT'), ('.', '.')]\n",
      "[('A', 'DT'), ('.', '.')]\n",
      "[('M', 'NNP'), ('.', '.')]\n",
      "[('D', 'NNP'), ('.', '.')]\n",
      "[('P', 'NNP'), ('.', '.')]\n",
      "[('P', 'NNP'), ('.', '.')]\n",
      "[('N', 'NNP'), ('.', '.')]\n",
      "# of token didnt mathed: 217\n"
     ]
    }
   ],
   "source": [
    "train_form = change_form_nltk(train)"
   ]
  },
  {
   "cell_type": "markdown",
   "metadata": {
    "colab_type": "text",
    "id": "l71Y88mRRV2g"
   },
   "source": [
    "- [Erik F. Tjong Kim Sang, et al. 2003] 에서는 \"The English data was tagged and chunked by\n",
    "the memory-based MBT tagger (Daelemans et al.,\n",
    "2002). \" 라고 했지만 적용 예시를 찾을 수 없었다."
   ]
  },
  {
   "cell_type": "markdown",
   "metadata": {
    "colab_type": "text",
    "id": "uaz63jDXX87U"
   },
   "source": [
    "# References\n",
    "\n",
    "- CRFs:\n",
    "  - https://sklearn-crfsuite.readthedocs.io/en/latest/tutorial.html\n",
    "  - https://github.com/scrapinghub/python-crfsuite/issues/73\n",
    "\n",
    "\n",
    "- Neural Networks:\n",
    "  - https://www.depends-on-the-definition.com/guide-sequence-tagging-neural-networks-python/\n",
    "  - https://github.com/billpku/NLP_In_Action?source=post_page-----936ff275bc73----------------------\n",
    "\n",
    "\n",
    "- Visualize Results:\n",
    "  - https://scikit-learn.org/stable/auto_examples/text/plot_document_classification_20newsgroups.html#sphx-glr-download-auto-examples-text-plot-document-classification-20newsgroups-py\n",
    "\n",
    "\n",
    "- Tokenizer Issue:\n",
    "    - spacy POS-Tagger: https://spacy.io/usage/linguistic-features\n",
    "    - NLTK POS-Tagger: https://www.nltk.org/book/ch05.html"
   ]
  }
 ],
 "metadata": {
  "accelerator": "GPU",
  "colab": {
   "collapsed_sections": [],
   "name": "NER_CONLL2003.ipynb",
   "provenance": []
  },
  "kernelspec": {
   "display_name": "Python 3",
   "language": "python",
   "name": "python3"
  },
  "language_info": {
   "codemirror_mode": {
    "name": "ipython",
    "version": 3
   },
   "file_extension": ".py",
   "mimetype": "text/x-python",
   "name": "python",
   "nbconvert_exporter": "python",
   "pygments_lexer": "ipython3",
   "version": "3.7.1"
  }
 },
 "nbformat": 4,
 "nbformat_minor": 1
}
